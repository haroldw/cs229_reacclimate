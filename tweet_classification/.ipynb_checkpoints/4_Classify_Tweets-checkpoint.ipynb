{
 "cells": [
  {
   "cell_type": "code",
   "execution_count": 1,
   "metadata": {},
   "outputs": [
    {
     "name": "stderr",
     "output_type": "stream",
     "text": [
      "Using TensorFlow backend.\n"
     ]
    }
   ],
   "source": [
    "import pickle\n",
    "import numpy as np\n",
    "import pandas as pd\n",
    "from keras import Sequential, backend, regularizers\n",
    "from keras.layers import Embedding, LSTM, Dense, Dropout, Flatten, Conv1D, MaxPooling1D\n",
    "from keras.preprocessing import sequence\n",
    "from keras.preprocessing.text import Tokenizer\n",
    "from keras.preprocessing.sequence import pad_sequences\n",
    "import keras.backend\n",
    "import os"
   ]
  },
  {
   "cell_type": "code",
   "execution_count": 2,
   "metadata": {},
   "outputs": [],
   "source": [
    "pd.options.display.max_rows = 999\n",
    "pd.options.display.max_columns = 999"
   ]
  },
  {
   "cell_type": "markdown",
   "metadata": {},
   "source": [
    "# Load and initialize model"
   ]
  },
  {
   "cell_type": "code",
   "execution_count": 77,
   "metadata": {},
   "outputs": [
    {
     "name": "stderr",
     "output_type": "stream",
     "text": [
      "/anaconda3/lib/python3.7/site-packages/tensorflow_core/python/framework/indexed_slices.py:424: UserWarning: Converting sparse IndexedSlices to a dense Tensor of unknown shape. This may consume a large amount of memory.\n",
      "  \"Converting sparse IndexedSlices to a dense Tensor of unknown shape. \"\n"
     ]
    }
   ],
   "source": [
    "model = pickle.load(open('RNN_glove_model.pkl','rb'))"
   ]
  },
  {
   "cell_type": "code",
   "execution_count": 5,
   "metadata": {},
   "outputs": [
    {
     "name": "stdout",
     "output_type": "stream",
     "text": [
      "Found 2195895 word vectors.\n"
     ]
    }
   ],
   "source": [
    "embeddings_index = {}\n",
    "f = open('/Users/yiweiluo/Downloads/datasets/glove.840B.300d.txt')\n",
    "for line in f:\n",
    "    values = line.split()\n",
    "    word = ' '.join(values[0:len(values)-300])\n",
    "    try:\n",
    "        coefs = np.asarray(values[len(values)-300:], dtype='float32')\n",
    "    except ValueError:\n",
    "        print(line)\n",
    "    embeddings_index[word] = coefs\n",
    "f.close()\n",
    "\n",
    "print('Found %s word vectors.' % len(embeddings_index))"
   ]
  },
  {
   "cell_type": "code",
   "execution_count": 70,
   "metadata": {},
   "outputs": [],
   "source": [
    "training_data = pd.read_csv('dedup_training_data.csv')\n",
    "corpus_all = training_data[pd.isnull(training_data['tweet_clean'])==False]\n",
    "corpus_all.reset_index(inplace=True)\n",
    "corpus_all.to_csv('corpus.csv', sep=',')\n",
    "corpus_all = corpus_all[pd.isnull(corpus_all['label'])==False]\n",
    "corpus_all.reset_index(inplace=True)\n",
    "corpus = corpus_all['tweet_clean']"
   ]
  },
  {
   "cell_type": "code",
   "execution_count": 71,
   "metadata": {},
   "outputs": [
    {
     "data": {
      "text/plain": [
       "248378"
      ]
     },
     "execution_count": 71,
     "metadata": {},
     "output_type": "execute_result"
    }
   ],
   "source": [
    "len(corpus)"
   ]
  },
  {
   "cell_type": "code",
   "execution_count": 13,
   "metadata": {},
   "outputs": [
    {
     "data": {
      "text/plain": [
       "0    trump isolates us on climate ocean plastics an...\n",
       "1    us congress investigates scientists wanting to...\n",
       "2    bald  golden eagle protection act prevents abu...\n",
       "3    caribbean delegates forced to abandon un clima...\n",
       "4    trump energy speech thru paris climate deal ob...\n",
       "Name: tweet_clean, dtype: object"
      ]
     },
     "execution_count": 13,
     "metadata": {},
     "output_type": "execute_result"
    }
   ],
   "source": [
    "corpus[0:5]"
   ]
  },
  {
   "cell_type": "code",
   "execution_count": 72,
   "metadata": {},
   "outputs": [],
   "source": [
    "voc_size = 8000\n",
    "max_words = 50\n",
    "tokenizer = Tokenizer(num_words=voc_size, filters='!\"#$%&()*+,-./:;<=>?@[\\\\]^_`{|}~\\t\\n',\n",
    "                                   lower=True,split=' ')\n",
    "tokenizer.fit_on_texts(corpus)"
   ]
  },
  {
   "cell_type": "code",
   "execution_count": 73,
   "metadata": {
    "code_folding": []
   },
   "outputs": [],
   "source": [
    "def pred(tweets):\n",
    "    tokgram = pad_sequences(tokenizer.texts_to_sequences(tweets['tweet_clean']), maxlen=max_words)\n",
    "    pred = np.round(model.predict(tokgram))\n",
    "    pred[pred>1]=1\n",
    "    pred[pred<=0]=-1\n",
    "    print(\" pos:\",  np.count_nonzero(pred==1),\n",
    "          \" neg:\",  np.count_nonzero(pred==-1))\n",
    "    return pred"
   ]
  },
  {
   "cell_type": "markdown",
   "metadata": {},
   "source": [
    "# Make predictions on Harold's data"
   ]
  },
  {
   "cell_type": "code",
   "execution_count": 68,
   "metadata": {},
   "outputs": [
    {
     "name": "stdout",
     "output_type": "stream",
     "text": [
      "4172\n"
     ]
    }
   ],
   "source": [
    "# Read in Harold's tweet data\n",
    "harold_cc_tweets = pd.read_csv(os.path.join('..','data','climate_change.csv'))\n",
    "harold_gw_tweets = pd.read_csv(os.path.join('..','data','global_warming.csv'))\n",
    "harold_tweets = pd.concat([harold_cc_tweets,harold_gw_tweets])\n",
    "harold_tweets = harold_tweets.rename(columns={\"clean_text\": \"tweet_clean\"})\n",
    "print(len(harold_tweets))"
   ]
  },
  {
   "cell_type": "code",
   "execution_count": 74,
   "metadata": {},
   "outputs": [
    {
     "name": "stdout",
     "output_type": "stream",
     "text": [
      "14\n",
      "4158\n"
     ]
    }
   ],
   "source": [
    "# remove tweets seen in training data\n",
    "# Remove tweets from training & validation sets\n",
    "test_train_overlap = training_data.merge(harold_tweets, on=['tweet_clean'])\n",
    "print(len(test_train_overlap))\n",
    "harold_tweets = harold_tweets[(~harold_tweets.tweet_clean.isin(test_train_overlap.tweet_clean))]\n",
    "print(len(harold_tweets))"
   ]
  },
  {
   "cell_type": "code",
   "execution_count": 75,
   "metadata": {
    "scrolled": true
   },
   "outputs": [],
   "source": [
    "harold_tweets_tweet_index = harold_tweets.set_index('tweet_clean')"
   ]
  },
  {
   "cell_type": "code",
   "execution_count": 78,
   "metadata": {},
   "outputs": [
    {
     "name": "stdout",
     "output_type": "stream",
     "text": [
      " pos: 1421  neg: 2737\n"
     ]
    }
   ],
   "source": [
    "# Use model to predict stance of harold_cc_tweets\n",
    "harold_preds = pred(harold_tweets)"
   ]
  },
  {
   "cell_type": "code",
   "execution_count": 79,
   "metadata": {},
   "outputs": [],
   "source": [
    "harold_preds_df = pd.DataFrame(dict(zip(harold_tweets['tweet_clean'],harold_preds))).T\n",
    "harold_preds_df.columns = ['model_pred']"
   ]
  },
  {
   "cell_type": "code",
   "execution_count": 42,
   "metadata": {
    "scrolled": true
   },
   "outputs": [
    {
     "data": {
      "text/plain": [
       "Index(['reminder is a climate change denier this is from september',\n",
       "       'there is no such thing as a climate change denier it is just the usual slur against people who realise there has and always will be climate change and that agw is not the exaggerated doomsday scenario used by climate zealots and marxist money shifters',\n",
       "       'you should of seen the remoaners at marble arch blocking the roads about climate change and he slags off a couple on tv',\n",
       "       'most people agree that climate change is an imminent threat but no one in power doing anything here a final attempt to put it in a way politicians understand the project tv',\n",
       "       'the liberals lies on climate change are going so well they are now insulting those who do not agree with them the chaos never stops auspol',\n",
       "       'david marr is right we know all of this climate change data the general public over the last decade has rallied to the cause unfortunately we have had government vacate the field abandoning the moral and practical leadership required opportunity to correct this on may thedrum',\n",
       "       'a snapshot of modern problems from comparing yourself with others online to being unable to stop climate change not our words but those of the guardian about our new podcast with hosted by and',\n",
       "       'and we wonder why there is climate change surely someone can say yes it was a nice idea but how about everyone just gets the tube to wembley instead',\n",
       "       'technologies that aid soil carbon sequestration are often lowcost solutions for improving agricultural productivity resilience and carbon sequestration but are these technologies accessible environment via',\n",
       "       'things like climate change denial and species extinction tend to be on a demarcation line around people who will be dead slightly before the planet choosing not to believe the science the drum ausvotes',\n",
       "       ...\n",
       "       'believe is the wrong word it is not a difference of opinion staff the climatology students w/ scientists who accept the overwhelming verifiable evidence of human driven climate change it is role in global warming species extinction biome eradication and resource depletion',\n",
       "       'i dont why im surprised when people have empathy at elite universities may as well start hoping global warming ends tomorrow that still has better chance than these people having any empathy so done',\n",
       "       'or should i ask him to tell everyone global warming is real',\n",
       "       'do you believe in the tipping point theory of catastrophic global warming elxn43 cdnpoli',\n",
       "       'i heartily disagree i think yale 'six americas research shows that there is a needle and it can move',\n",
       "       'bingo front row in addition a large part of global warming has been in the arctic in winter water vapor not co2 the cause source of increased wv is the natural cycles of the oceans',\n",
       "       'i have some people who write entire thesis over multiple comments elaining how i am wrong about this whole global warming/dark matter/gravity/spherical earth thing',\n",
       "       'not that i dont care about global warming bc obviously i do but some of the posts yall make/share are just fear tactics and anxiety inducing bullshit and trying to guilt people who cant do shit about anything ie poor people lol into feeling like its their fault',\n",
       "       'we love the global warming',\n",
       "       'looking at the uk climate change council report to get to net zero apparently without any unicorn techs the power section looks a bit strange and i am looking at power because it is my field'],\n",
       "      dtype='object', length=2652)"
      ]
     },
     "execution_count": 42,
     "metadata": {},
     "output_type": "execute_result"
    }
   ],
   "source": [
    "harold_preds_df[harold_preds_df['model_pred'] == -1.0].index"
   ]
  },
  {
   "cell_type": "code",
   "execution_count": 43,
   "metadata": {
    "scrolled": true
   },
   "outputs": [
    {
     "data": {
      "text/plain": [
       "Index(['the wealthy founders of hedge fund quadrature capital plan to commit as much as million a year to fight climate change',\n",
       "       'renewable energy is failing on a massive scale if we are serious about climate change like solving the climate change problem then when the hell will we wake up and eand nuclear energy we need more nuke power plants not some damn school strikes',\n",
       "       'biodiversity loss will hurt us as much as climate change ipbes7 biodiversity',\n",
       "       'climate change ireland declares climate emergency',\n",
       "       'personally i do not know of any notable climate change deniers you should get out more even former nasa atmospheric physicist and hansen former supervisor suddenly became a skeptic upon retirement',\n",
       "       'let me get this right majority wants action on climate change nearly are going to vote for a party with the most climate change deniers the lnp for goodness sake are people that dumb confused or ignorant voting against their own interests like the nbn and abc auspol',\n",
       "       'i have been thinking about this a lot lately i think we need to stop the international conference thing in a digital era it is very hard to defend next one i organise will have virtual attendance we need to talk about climate change via',\n",
       "       'italy wants to host cop26 the un climate change summit matteo salvini along with much of his party voted against the paris climate agreement voting data via here',\n",
       "       'i think declaring a climate and biodiversity emergency is a great thing however it can not just be an exercise in pr we need systemic change and for that the conversation needs to be had everywhere all the time',\n",
       "       'when we have finished fighting climate change and fascism can we unify the us and uk mother days cos the difference really is not good for my heart',\n",
       "       ...\n",
       "       'three out of these five volunteers who i met at the global warming youth summit have mothers who are members of our kids are following in our footsteps and taking the lead climate hope sunrisemvmtboston youth climate action network',\n",
       "       'right now on theweathernetwork elains that in years climate change/global warming will lead to over million damage to sydney ns',\n",
       "       'and we thought global warming would get us first',\n",
       "       'extreme temperature diary may global warming signal was strong as soon as the early 100s click on new post at science lead on climate climate change is real',\n",
       "       'that is global warming for you and it is trump fault even though barry was president did you know that the russians brought the first mosquitoes to the us it must be true mazie hirona said so',\n",
       "       'and japan are 1st and 4th on emitting co2 these carbon emissions are from burning their solid waste read more',\n",
       "       'the libdems are neoliberals neoliberalism brought us global warming plastic pollution industrial agriculture the errosion of citizens rights as consumers and workers austerity privatisation monetisation of education sweeping derugulation skyhigh rents and poverty',\n",
       "       'the dominant narrative around climate change tells us that it is our fault do not give in to that shame it is not yours the oil and gas industry is gaslighting you beautiful piece about climate change guilt by',\n",
       "       'we really need to fix this global warming situation like fast',\n",
       "       'this would be a tragedy'],\n",
       "      dtype='object', length=1362)"
      ]
     },
     "execution_count": 43,
     "metadata": {},
     "output_type": "execute_result"
    }
   ],
   "source": [
    "harold_preds_df[harold_preds_df['model_pred'] == 1.0].index"
   ]
  },
  {
   "cell_type": "markdown",
   "metadata": {},
   "source": [
    "# Train 2 language models, one per camp"
   ]
  },
  {
   "cell_type": "code",
   "execution_count": 80,
   "metadata": {},
   "outputs": [],
   "source": [
    "pro_cc_tweets = harold_preds_df[harold_preds_df['model_pred'] == 1.0].index\n",
    "anti_cc_tweets = harold_preds_df[harold_preds_df['model_pred'] == -1.0].index"
   ]
  },
  {
   "cell_type": "code",
   "execution_count": 81,
   "metadata": {},
   "outputs": [
    {
     "name": "stdout",
     "output_type": "stream",
     "text": [
      "1362\n",
      "2652\n"
     ]
    }
   ],
   "source": [
    "print(len(pro_cc_tweets))\n",
    "print(len(anti_cc_tweets))"
   ]
  },
  {
   "cell_type": "code",
   "execution_count": 83,
   "metadata": {
    "scrolled": true
   },
   "outputs": [
    {
     "ename": "KeyError",
     "evalue": "'the wealthy founders of hedge fund quadrature capital plan to commit as much asmillion a year to fight climate change'",
     "output_type": "error",
     "traceback": [
      "\u001b[0;31m---------------------------------------------------------------------------\u001b[0m",
      "\u001b[0;31mKeyError\u001b[0m                                  Traceback (most recent call last)",
      "\u001b[0;32m/anaconda3/lib/python3.7/site-packages/pandas/core/indexes/base.py\u001b[0m in \u001b[0;36mget_loc\u001b[0;34m(self, key, method, tolerance)\u001b[0m\n\u001b[1;32m   2896\u001b[0m             \u001b[0;32mtry\u001b[0m\u001b[0;34m:\u001b[0m\u001b[0;34m\u001b[0m\u001b[0;34m\u001b[0m\u001b[0m\n\u001b[0;32m-> 2897\u001b[0;31m                 \u001b[0;32mreturn\u001b[0m \u001b[0mself\u001b[0m\u001b[0;34m.\u001b[0m\u001b[0m_engine\u001b[0m\u001b[0;34m.\u001b[0m\u001b[0mget_loc\u001b[0m\u001b[0;34m(\u001b[0m\u001b[0mkey\u001b[0m\u001b[0;34m)\u001b[0m\u001b[0;34m\u001b[0m\u001b[0;34m\u001b[0m\u001b[0m\n\u001b[0m\u001b[1;32m   2898\u001b[0m             \u001b[0;32mexcept\u001b[0m \u001b[0mKeyError\u001b[0m\u001b[0;34m:\u001b[0m\u001b[0;34m\u001b[0m\u001b[0;34m\u001b[0m\u001b[0m\n",
      "\u001b[0;32mpandas/_libs/index.pyx\u001b[0m in \u001b[0;36mpandas._libs.index.IndexEngine.get_loc\u001b[0;34m()\u001b[0m\n",
      "\u001b[0;32mpandas/_libs/index.pyx\u001b[0m in \u001b[0;36mpandas._libs.index.IndexEngine.get_loc\u001b[0;34m()\u001b[0m\n",
      "\u001b[0;32mpandas/_libs/index.pyx\u001b[0m in \u001b[0;36mpandas._libs.index.IndexEngine._get_loc_duplicates\u001b[0;34m()\u001b[0m\n",
      "\u001b[0;32mpandas/_libs/index.pyx\u001b[0m in \u001b[0;36mpandas._libs.index.IndexEngine._maybe_get_bool_indexer\u001b[0;34m()\u001b[0m\n",
      "\u001b[0;31mKeyError\u001b[0m: 'the wealthy founders of hedge fund quadrature capital plan to commit as much asmillion a year to fight climate change'",
      "\nDuring handling of the above exception, another exception occurred:\n",
      "\u001b[0;31mKeyError\u001b[0m                                  Traceback (most recent call last)",
      "\u001b[0;32m<ipython-input-83-03122f9f1477>\u001b[0m in \u001b[0;36m<module>\u001b[0;34m\u001b[0m\n\u001b[1;32m      1\u001b[0m harold_tweets_tweet_index.loc['the wealthy founders of hedge fund quadrature capital plan to commit as much as\\\n\u001b[0;32m----> 2\u001b[0;31m million a year to fight climate change']\n\u001b[0m",
      "\u001b[0;32m/anaconda3/lib/python3.7/site-packages/pandas/core/indexing.py\u001b[0m in \u001b[0;36m__getitem__\u001b[0;34m(self, key)\u001b[0m\n\u001b[1;32m   1422\u001b[0m \u001b[0;34m\u001b[0m\u001b[0m\n\u001b[1;32m   1423\u001b[0m             \u001b[0mmaybe_callable\u001b[0m \u001b[0;34m=\u001b[0m \u001b[0mcom\u001b[0m\u001b[0;34m.\u001b[0m\u001b[0mapply_if_callable\u001b[0m\u001b[0;34m(\u001b[0m\u001b[0mkey\u001b[0m\u001b[0;34m,\u001b[0m \u001b[0mself\u001b[0m\u001b[0;34m.\u001b[0m\u001b[0mobj\u001b[0m\u001b[0;34m)\u001b[0m\u001b[0;34m\u001b[0m\u001b[0;34m\u001b[0m\u001b[0m\n\u001b[0;32m-> 1424\u001b[0;31m             \u001b[0;32mreturn\u001b[0m \u001b[0mself\u001b[0m\u001b[0;34m.\u001b[0m\u001b[0m_getitem_axis\u001b[0m\u001b[0;34m(\u001b[0m\u001b[0mmaybe_callable\u001b[0m\u001b[0;34m,\u001b[0m \u001b[0maxis\u001b[0m\u001b[0;34m=\u001b[0m\u001b[0maxis\u001b[0m\u001b[0;34m)\u001b[0m\u001b[0;34m\u001b[0m\u001b[0;34m\u001b[0m\u001b[0m\n\u001b[0m\u001b[1;32m   1425\u001b[0m \u001b[0;34m\u001b[0m\u001b[0m\n\u001b[1;32m   1426\u001b[0m     \u001b[0;32mdef\u001b[0m \u001b[0m_is_scalar_access\u001b[0m\u001b[0;34m(\u001b[0m\u001b[0mself\u001b[0m\u001b[0;34m,\u001b[0m \u001b[0mkey\u001b[0m\u001b[0;34m:\u001b[0m \u001b[0mTuple\u001b[0m\u001b[0;34m)\u001b[0m\u001b[0;34m:\u001b[0m\u001b[0;34m\u001b[0m\u001b[0;34m\u001b[0m\u001b[0m\n",
      "\u001b[0;32m/anaconda3/lib/python3.7/site-packages/pandas/core/indexing.py\u001b[0m in \u001b[0;36m_getitem_axis\u001b[0;34m(self, key, axis)\u001b[0m\n\u001b[1;32m   1848\u001b[0m         \u001b[0;31m# fall thru to straight lookup\u001b[0m\u001b[0;34m\u001b[0m\u001b[0;34m\u001b[0m\u001b[0;34m\u001b[0m\u001b[0m\n\u001b[1;32m   1849\u001b[0m         \u001b[0mself\u001b[0m\u001b[0;34m.\u001b[0m\u001b[0m_validate_key\u001b[0m\u001b[0;34m(\u001b[0m\u001b[0mkey\u001b[0m\u001b[0;34m,\u001b[0m \u001b[0maxis\u001b[0m\u001b[0;34m)\u001b[0m\u001b[0;34m\u001b[0m\u001b[0;34m\u001b[0m\u001b[0m\n\u001b[0;32m-> 1850\u001b[0;31m         \u001b[0;32mreturn\u001b[0m \u001b[0mself\u001b[0m\u001b[0;34m.\u001b[0m\u001b[0m_get_label\u001b[0m\u001b[0;34m(\u001b[0m\u001b[0mkey\u001b[0m\u001b[0;34m,\u001b[0m \u001b[0maxis\u001b[0m\u001b[0;34m=\u001b[0m\u001b[0maxis\u001b[0m\u001b[0;34m)\u001b[0m\u001b[0;34m\u001b[0m\u001b[0;34m\u001b[0m\u001b[0m\n\u001b[0m\u001b[1;32m   1851\u001b[0m \u001b[0;34m\u001b[0m\u001b[0m\n\u001b[1;32m   1852\u001b[0m \u001b[0;34m\u001b[0m\u001b[0m\n",
      "\u001b[0;32m/anaconda3/lib/python3.7/site-packages/pandas/core/indexing.py\u001b[0m in \u001b[0;36m_get_label\u001b[0;34m(self, label, axis)\u001b[0m\n\u001b[1;32m    158\u001b[0m             \u001b[0;32mraise\u001b[0m \u001b[0mIndexingError\u001b[0m\u001b[0;34m(\u001b[0m\u001b[0;34m\"no slices here, handle elsewhere\"\u001b[0m\u001b[0;34m)\u001b[0m\u001b[0;34m\u001b[0m\u001b[0;34m\u001b[0m\u001b[0m\n\u001b[1;32m    159\u001b[0m \u001b[0;34m\u001b[0m\u001b[0m\n\u001b[0;32m--> 160\u001b[0;31m         \u001b[0;32mreturn\u001b[0m \u001b[0mself\u001b[0m\u001b[0;34m.\u001b[0m\u001b[0mobj\u001b[0m\u001b[0;34m.\u001b[0m\u001b[0m_xs\u001b[0m\u001b[0;34m(\u001b[0m\u001b[0mlabel\u001b[0m\u001b[0;34m,\u001b[0m \u001b[0maxis\u001b[0m\u001b[0;34m=\u001b[0m\u001b[0maxis\u001b[0m\u001b[0;34m)\u001b[0m\u001b[0;34m\u001b[0m\u001b[0;34m\u001b[0m\u001b[0m\n\u001b[0m\u001b[1;32m    161\u001b[0m \u001b[0;34m\u001b[0m\u001b[0m\n\u001b[1;32m    162\u001b[0m     \u001b[0;32mdef\u001b[0m \u001b[0m_get_loc\u001b[0m\u001b[0;34m(\u001b[0m\u001b[0mself\u001b[0m\u001b[0;34m,\u001b[0m \u001b[0mkey\u001b[0m\u001b[0;34m:\u001b[0m \u001b[0mint\u001b[0m\u001b[0;34m,\u001b[0m \u001b[0maxis\u001b[0m\u001b[0;34m:\u001b[0m \u001b[0mint\u001b[0m\u001b[0;34m)\u001b[0m\u001b[0;34m:\u001b[0m\u001b[0;34m\u001b[0m\u001b[0;34m\u001b[0m\u001b[0m\n",
      "\u001b[0;32m/anaconda3/lib/python3.7/site-packages/pandas/core/generic.py\u001b[0m in \u001b[0;36mxs\u001b[0;34m(self, key, axis, level, drop_level)\u001b[0m\n\u001b[1;32m   3735\u001b[0m             \u001b[0mloc\u001b[0m\u001b[0;34m,\u001b[0m \u001b[0mnew_index\u001b[0m \u001b[0;34m=\u001b[0m \u001b[0mself\u001b[0m\u001b[0;34m.\u001b[0m\u001b[0mindex\u001b[0m\u001b[0;34m.\u001b[0m\u001b[0mget_loc_level\u001b[0m\u001b[0;34m(\u001b[0m\u001b[0mkey\u001b[0m\u001b[0;34m,\u001b[0m \u001b[0mdrop_level\u001b[0m\u001b[0;34m=\u001b[0m\u001b[0mdrop_level\u001b[0m\u001b[0;34m)\u001b[0m\u001b[0;34m\u001b[0m\u001b[0;34m\u001b[0m\u001b[0m\n\u001b[1;32m   3736\u001b[0m         \u001b[0;32melse\u001b[0m\u001b[0;34m:\u001b[0m\u001b[0;34m\u001b[0m\u001b[0;34m\u001b[0m\u001b[0m\n\u001b[0;32m-> 3737\u001b[0;31m             \u001b[0mloc\u001b[0m \u001b[0;34m=\u001b[0m \u001b[0mself\u001b[0m\u001b[0;34m.\u001b[0m\u001b[0mindex\u001b[0m\u001b[0;34m.\u001b[0m\u001b[0mget_loc\u001b[0m\u001b[0;34m(\u001b[0m\u001b[0mkey\u001b[0m\u001b[0;34m)\u001b[0m\u001b[0;34m\u001b[0m\u001b[0;34m\u001b[0m\u001b[0m\n\u001b[0m\u001b[1;32m   3738\u001b[0m \u001b[0;34m\u001b[0m\u001b[0m\n\u001b[1;32m   3739\u001b[0m             \u001b[0;32mif\u001b[0m \u001b[0misinstance\u001b[0m\u001b[0;34m(\u001b[0m\u001b[0mloc\u001b[0m\u001b[0;34m,\u001b[0m \u001b[0mnp\u001b[0m\u001b[0;34m.\u001b[0m\u001b[0mndarray\u001b[0m\u001b[0;34m)\u001b[0m\u001b[0;34m:\u001b[0m\u001b[0;34m\u001b[0m\u001b[0;34m\u001b[0m\u001b[0m\n",
      "\u001b[0;32m/anaconda3/lib/python3.7/site-packages/pandas/core/indexes/base.py\u001b[0m in \u001b[0;36mget_loc\u001b[0;34m(self, key, method, tolerance)\u001b[0m\n\u001b[1;32m   2897\u001b[0m                 \u001b[0;32mreturn\u001b[0m \u001b[0mself\u001b[0m\u001b[0;34m.\u001b[0m\u001b[0m_engine\u001b[0m\u001b[0;34m.\u001b[0m\u001b[0mget_loc\u001b[0m\u001b[0;34m(\u001b[0m\u001b[0mkey\u001b[0m\u001b[0;34m)\u001b[0m\u001b[0;34m\u001b[0m\u001b[0;34m\u001b[0m\u001b[0m\n\u001b[1;32m   2898\u001b[0m             \u001b[0;32mexcept\u001b[0m \u001b[0mKeyError\u001b[0m\u001b[0;34m:\u001b[0m\u001b[0;34m\u001b[0m\u001b[0;34m\u001b[0m\u001b[0m\n\u001b[0;32m-> 2899\u001b[0;31m                 \u001b[0;32mreturn\u001b[0m \u001b[0mself\u001b[0m\u001b[0;34m.\u001b[0m\u001b[0m_engine\u001b[0m\u001b[0;34m.\u001b[0m\u001b[0mget_loc\u001b[0m\u001b[0;34m(\u001b[0m\u001b[0mself\u001b[0m\u001b[0;34m.\u001b[0m\u001b[0m_maybe_cast_indexer\u001b[0m\u001b[0;34m(\u001b[0m\u001b[0mkey\u001b[0m\u001b[0;34m)\u001b[0m\u001b[0;34m)\u001b[0m\u001b[0;34m\u001b[0m\u001b[0;34m\u001b[0m\u001b[0m\n\u001b[0m\u001b[1;32m   2900\u001b[0m         \u001b[0mindexer\u001b[0m \u001b[0;34m=\u001b[0m \u001b[0mself\u001b[0m\u001b[0;34m.\u001b[0m\u001b[0mget_indexer\u001b[0m\u001b[0;34m(\u001b[0m\u001b[0;34m[\u001b[0m\u001b[0mkey\u001b[0m\u001b[0;34m]\u001b[0m\u001b[0;34m,\u001b[0m \u001b[0mmethod\u001b[0m\u001b[0;34m=\u001b[0m\u001b[0mmethod\u001b[0m\u001b[0;34m,\u001b[0m \u001b[0mtolerance\u001b[0m\u001b[0;34m=\u001b[0m\u001b[0mtolerance\u001b[0m\u001b[0;34m)\u001b[0m\u001b[0;34m\u001b[0m\u001b[0;34m\u001b[0m\u001b[0m\n\u001b[1;32m   2901\u001b[0m         \u001b[0;32mif\u001b[0m \u001b[0mindexer\u001b[0m\u001b[0;34m.\u001b[0m\u001b[0mndim\u001b[0m \u001b[0;34m>\u001b[0m \u001b[0;36m1\u001b[0m \u001b[0;32mor\u001b[0m \u001b[0mindexer\u001b[0m\u001b[0;34m.\u001b[0m\u001b[0msize\u001b[0m \u001b[0;34m>\u001b[0m \u001b[0;36m1\u001b[0m\u001b[0;34m:\u001b[0m\u001b[0;34m\u001b[0m\u001b[0;34m\u001b[0m\u001b[0m\n",
      "\u001b[0;32mpandas/_libs/index.pyx\u001b[0m in \u001b[0;36mpandas._libs.index.IndexEngine.get_loc\u001b[0;34m()\u001b[0m\n",
      "\u001b[0;32mpandas/_libs/index.pyx\u001b[0m in \u001b[0;36mpandas._libs.index.IndexEngine.get_loc\u001b[0;34m()\u001b[0m\n",
      "\u001b[0;32mpandas/_libs/index.pyx\u001b[0m in \u001b[0;36mpandas._libs.index.IndexEngine._get_loc_duplicates\u001b[0;34m()\u001b[0m\n",
      "\u001b[0;32mpandas/_libs/index.pyx\u001b[0m in \u001b[0;36mpandas._libs.index.IndexEngine._maybe_get_bool_indexer\u001b[0;34m()\u001b[0m\n",
      "\u001b[0;31mKeyError\u001b[0m: 'the wealthy founders of hedge fund quadrature capital plan to commit as much asmillion a year to fight climate change'"
     ]
    }
   ],
   "source": [
    "harold_tweets_tweet_index.loc['the wealthy founders of hedge fund quadrature capital plan to commit as much as\\\n",
    "million a year to fight climate change']"
   ]
  },
  {
   "cell_type": "code",
   "execution_count": 57,
   "metadata": {
    "scrolled": true
   },
   "outputs": [],
   "source": [
    "from gensim.models import Word2Vec\n",
    "# define training data\n",
    "sentences = [tweet.split() for tweet in pro_cc_tweets]\n",
    "# train model\n",
    "model = Word2Vec(sentences, min_count=5)\n",
    "# summarize the loaded model\n",
    "print(model)\n",
    "# summarize vocabulary\n",
    "words = list(model.wv.vocab)\n",
    "print(len(words))\n",
    "# access vector for one word\n",
    "print(model['climate'])\n",
    "# save model\n",
    "model.save('pro_cc_w2v_model.bin')"
   ]
  },
  {
   "cell_type": "code",
   "execution_count": 59,
   "metadata": {
    "scrolled": true
   },
   "outputs": [
    {
     "name": "stdout",
     "output_type": "stream",
     "text": [
      "Word2Vec(vocab=1801, size=100, alpha=0.025)\n",
      "1801\n",
      "[ 0.40024742  0.20701967 -0.45942876  0.03025766 -0.40739837 -0.65175134\n",
      "  0.36046833 -0.65566427  0.3470612  -0.36505696  0.33473477 -0.18235298\n",
      " -0.41054305 -0.14329943 -0.1054851  -0.03355792  0.20525345 -0.83092946\n",
      " -0.37745634 -0.0482132  -0.3077587   0.33254284 -0.38879785 -0.11153527\n",
      "  0.02112525  0.23479295 -0.5732449  -0.13803573  0.31759125  0.14398615\n",
      " -0.50151217  0.370963   -0.25602636  0.54213494 -0.12917411  0.22189258\n",
      " -0.24920516  0.06758832  0.22596376 -0.34559643 -0.9728481   0.35379806\n",
      " -0.15852052  0.1039153   0.60810155  0.20607606  0.21331553 -0.06152461\n",
      " -0.068207    0.08485684  0.60212064  0.3629619  -0.65647835 -0.12147623\n",
      " -0.4585774   0.12211934 -0.00400861  0.28220782  0.16822053 -0.34424052\n",
      "  0.0987465  -0.51541394  0.38642535 -0.14299369 -0.8911952   0.14560463\n",
      " -0.02851019 -0.58266383 -0.08522306 -0.28986076  0.16148242 -0.28094083\n",
      " -0.4718423   0.12194349  0.6902758  -0.18721238  0.2557422   0.4677672\n",
      "  0.45885152  0.29795042 -0.50869304 -0.56771237  0.40895423 -0.28313544\n",
      " -0.21390736  0.34013444  0.012302   -0.03566604  0.22767249 -0.6812678\n",
      " -0.12556502  0.39333326 -0.973545    0.15416464  0.06996693  0.2503188\n",
      "  0.22582552 -0.04035633  0.9163399   0.34450352]\n"
     ]
    },
    {
     "name": "stderr",
     "output_type": "stream",
     "text": [
      "/anaconda3/lib/python3.7/site-packages/ipykernel_launcher.py:10: DeprecationWarning: Call to deprecated `__getitem__` (Method will be removed in 4.0.0, use self.wv.__getitem__() instead).\n",
      "  # Remove the CWD from sys.path while we load stuff.\n"
     ]
    }
   ],
   "source": [
    "sentences = [tweet.split() for tweet in anti_cc_tweets]\n",
    "# train model\n",
    "model = Word2Vec(sentences, min_count=5)\n",
    "# summarize the loaded model\n",
    "print(model)\n",
    "# summarize vocabulary\n",
    "words = list(model.wv.vocab)\n",
    "print(len(words))\n",
    "# access vector for one word\n",
    "print(model['climate'])\n",
    "# save model\n",
    "model.save('anti_cc_w2v_model.bin')"
   ]
  },
  {
   "cell_type": "code",
   "execution_count": 61,
   "metadata": {
    "scrolled": true
   },
   "outputs": [],
   "source": [
    "pro_model = Word2Vec.load('pro_cc_w2v_model.bin')\n",
    "anti_model = Word2Vec.load('anti_cc_w2v_model.bin')"
   ]
  },
  {
   "cell_type": "code",
   "execution_count": 60,
   "metadata": {},
   "outputs": [],
   "source": [
    "sample_words = ['nuclear','climate','warming','carbon','good','bad','environment']"
   ]
  },
  {
   "cell_type": "code",
   "execution_count": 62,
   "metadata": {},
   "outputs": [
    {
     "name": "stderr",
     "output_type": "stream",
     "text": [
      "/anaconda3/lib/python3.7/site-packages/ipykernel_launcher.py:1: DeprecationWarning: Call to deprecated `__getitem__` (Method will be removed in 4.0.0, use self.wv.__getitem__() instead).\n",
      "  \"\"\"Entry point for launching an IPython kernel.\n"
     ]
    }
   ],
   "source": [
    "X = pro_model[sample_words]"
   ]
  },
  {
   "cell_type": "code",
   "execution_count": 66,
   "metadata": {},
   "outputs": [
    {
     "data": {
      "image/png": "[encoded data removed]",
      "text/plain": [
       "<Figure size 432x288 with 1 Axes>"
      ]
     },
     "metadata": {
      "needs_background": "light"
     },
     "output_type": "display_data"
    }
   ],
   "source": [
    "from sklearn.decomposition import PCA\n",
    "import matplotlib.pyplot as plt\n",
    "pca = PCA(n_components=2)\n",
    "result = pca.fit_transform(X)\n",
    "plt.scatter(result[:, 0], result[:, 1])\n",
    "words = list(sample_words)\n",
    "for i, word in enumerate(words):\n",
    "    plt.annotate(word, xy=(result[i, 0], result[i, 1]))"
   ]
  },
  {
   "cell_type": "code",
   "execution_count": 67,
   "metadata": {},
   "outputs": [
    {
     "name": "stderr",
     "output_type": "stream",
     "text": [
      "/anaconda3/lib/python3.7/site-packages/ipykernel_launcher.py:1: DeprecationWarning: Call to deprecated `__getitem__` (Method will be removed in 4.0.0, use self.wv.__getitem__() instead).\n",
      "  \"\"\"Entry point for launching an IPython kernel.\n"
     ]
    },
    {
     "data": {
      "image/png": "[encoded data removed]",
      "text/plain": [
       "<Figure size 432x288 with 1 Axes>"
      ]
     },
     "metadata": {
      "needs_background": "light"
     },
     "output_type": "display_data"
    }
   ],
   "source": [
    "X = anti_model[sample_words]\n",
    "pca = PCA(n_components=2)\n",
    "result = pca.fit_transform(X)\n",
    "plt.scatter(result[:, 0], result[:, 1])\n",
    "words = list(sample_words)\n",
    "for i, word in enumerate(words):\n",
    "    plt.annotate(word, xy=(result[i, 0], result[i, 1]))"
   ]
  },
  {
   "cell_type": "markdown",
   "metadata": {},
   "source": [
    "# Harold's data too sparse, train VSM on twint data additionally"
   ]
  },
  {
   "cell_type": "code",
   "execution_count": 2,
   "metadata": {},
   "outputs": [],
   "source": [
    "# Functions for importing & cleaning relevant tweets\n",
    "def lower(s):\n",
    "    return s.lower()\n",
    "\n",
    "def tweet_imports(filename):\n",
    "    imp = pd.read_pickle(filename)\n",
    "    imp = imp.drop_duplicates()\n",
    "    imp['tweet_clean'] = imp['tweet'].str.replace('http\\S+|www.\\S+|pic.twitter.com\\S+', '', case=False)\n",
    "    imp['tweet_clean'] =imp['tweet_clean'].replace('[^A-Za-z0-9 ]+','',regex=True)\n",
    "    imp['tweet_clean'] = imp['tweet_clean'].apply(lower)#map(lambda x: x.lower(), imp['tweet_clean'])\n",
    "    imp['date'] = pd.to_datetime(imp['date'])\n",
    "    return imp"
   ]
  },
  {
   "cell_type": "code",
   "execution_count": 84,
   "metadata": {
    "code_folding": []
   },
   "outputs": [],
   "source": [
    "cleaned_affirm_tweets = tweet_imports('all_affirm_tweets.pkl')\n",
    "cleaned_deny_tweets = tweet_imports('all_deny_tweets.pkl')"
   ]
  },
  {
   "cell_type": "code",
   "execution_count": 88,
   "metadata": {
    "code_folding": [],
    "scrolled": true
   },
   "outputs": [
    {
     "name": "stdout",
     "output_type": "stream",
     "text": [
      "Word2Vec(vocab=38577, size=100, alpha=0.025)\n",
      "38577\n",
      "[ 1.2326376e+00 -1.6688982e+00 -6.8462551e-02 -2.5394577e-01\n",
      "  8.4848237e-01  2.2075450e+00  2.0413318e+00  1.2650030e+00\n",
      "  4.2193764e-01  9.8945253e-02 -8.6286175e-01  1.1408772e+00\n",
      "  1.4600570e+00 -2.5637691e+00 -2.2313732e-01  2.1802959e+00\n",
      " -1.7362401e+00  2.3204641e+00  7.3828954e-01 -2.7803233e-01\n",
      " -4.7248265e-01 -1.1727811e+00 -1.3371937e+00 -5.9463263e-01\n",
      "  1.5894729e+00  8.0178845e-01  1.7292933e-01  2.7817151e-01\n",
      " -9.2352378e-01  3.8982150e-01  2.3580818e+00  1.4601108e-01\n",
      "  2.3527176e+00  1.2764941e+00 -1.5981792e+00 -2.9767093e-01\n",
      " -1.8994993e+00  4.1916579e-02 -7.7065015e-01 -3.2158210e+00\n",
      "  8.5621595e-01  4.1312709e-01  1.9299575e+00 -1.1557190e+00\n",
      " -2.5643733e+00 -3.9542550e-01 -4.8180974e-01 -1.9140662e-01\n",
      "  5.3811038e-01  6.5471852e-01 -3.9049238e-01 -1.1301450e+00\n",
      " -1.8215996e+00 -2.0881193e+00  4.2845275e-02  7.7638686e-02\n",
      "  7.1677369e-01  4.3753216e-01 -3.4269843e-01 -1.0879283e+00\n",
      "  5.6667435e-01 -1.5660955e+00 -1.3510234e+00  4.8338297e-01\n",
      "  5.2368259e-01 -6.9328988e-01 -1.0799054e+00 -2.0029132e+00\n",
      "  2.2564647e+00 -2.1489317e+00 -7.6912832e-01  2.1863902e-01\n",
      " -2.3048301e-01  5.3540963e-01  3.2780138e-01 -8.1277704e-01\n",
      " -1.6753640e+00 -2.1311836e-03 -1.3771093e+00  4.4343919e-01\n",
      "  1.1647124e+00  5.7101250e-01 -1.5294281e+00 -6.5789992e-01\n",
      "  1.1026525e+00  1.2538478e+00 -1.7432606e+00  6.5595560e-02\n",
      " -1.3690255e+00 -2.7367251e+00 -2.8871388e+00  6.4003807e-01\n",
      " -1.0848446e+00 -9.2746824e-01  1.6804181e+00 -5.9308652e-02\n",
      "  5.2113146e-02 -1.8442631e+00 -2.1686505e-01  1.3389190e+00]\n"
     ]
    },
    {
     "name": "stderr",
     "output_type": "stream",
     "text": [
      "/anaconda3/lib/python3.7/site-packages/ipykernel_launcher.py:15: DeprecationWarning: Call to deprecated `__getitem__` (Method will be removed in 4.0.0, use self.wv.__getitem__() instead).\n",
      "  from ipykernel import kernelapp as app\n"
     ]
    }
   ],
   "source": [
    "from gensim.models import Word2Vec\n",
    "from gensim.models import Phrases\n",
    "# define training data\n",
    "pro_sentences = [tweet.split() for tweet in cleaned_affirm_tweets['tweet_clean']]+\\\n",
    "[tweet.split() for tweet in pro_cc_tweets]\n",
    "bigram_transformer = Phrases(pro_sentences)\n",
    "# train model\n",
    "pro_model = Word2Vec(bigram_transformer[pro_sentences], min_count=5)\n",
    "# summarize the loaded model\n",
    "print(pro_model)\n",
    "# summarize vocabulary\n",
    "words = list(pro_model.wv.vocab)\n",
    "print(len(words))\n",
    "# access vector for one word\n",
    "print(pro_model['climate'])\n",
    "# save model\n",
    "pro_model.save('pro_cc_w2v_model.bin')"
   ]
  },
  {
   "cell_type": "code",
   "execution_count": 89,
   "metadata": {
    "code_folding": []
   },
   "outputs": [
    {
     "name": "stdout",
     "output_type": "stream",
     "text": [
      "Word2Vec(vocab=45268, size=100, alpha=0.025)\n",
      "45268\n",
      "[-0.01500632 -2.3206484  -2.1453857   0.02081211  1.6996607   1.0503414\n",
      "  2.2809067   0.9460605   0.37988293  1.9983379   1.0025198  -0.34820753\n",
      " -0.14165355 -1.3439987   2.3721204  -1.0672116  -0.19670412  2.1891997\n",
      "  1.8451316   1.4558746  -2.8631005  -0.76658237  0.06283342  0.1689645\n",
      "  0.03057239 -2.2552543   0.13103348 -0.45901424 -0.51068705  1.9780991\n",
      "  0.6056898  -1.2542768   0.4810836  -2.1551492  -0.6968119   2.4423027\n",
      " -1.6744043   2.0998693   1.979845   -1.8289162   0.96144056  0.50252074\n",
      "  1.2932056  -1.6708798  -0.57647336 -3.0722816  -1.3224913   0.5015091\n",
      " -0.03495024  0.77086145  1.3158801   0.6934928   2.554748   -1.6904904\n",
      " -0.88994825  0.28735214  1.4768188   1.1913422   0.8251665   1.6964452\n",
      "  1.3288903  -0.13035634  2.328539   -0.47611728  0.01002307 -0.15323468\n",
      " -1.6916559  -0.06872437 -0.00955139  0.9846216   1.7714511   0.7352447\n",
      " -0.39985174  0.4370451   0.06222657 -0.5907598  -1.9573572   2.1115057\n",
      " -0.71986496 -0.3713846   0.9489606  -1.183023   -0.8097143  -3.423088\n",
      "  0.55537826  0.5706427   0.53527766  0.79123205  1.0656661  -0.5945447\n",
      "  2.426502    0.6760951  -2.7149813   1.2916303   2.9829102  -1.4286098\n",
      " -0.41011652 -3.0027838   0.01436914  1.6407979 ]\n"
     ]
    },
    {
     "name": "stderr",
     "output_type": "stream",
     "text": [
      "/anaconda3/lib/python3.7/site-packages/ipykernel_launcher.py:8: DeprecationWarning: Call to deprecated `__getitem__` (Method will be removed in 4.0.0, use self.wv.__getitem__() instead).\n",
      "  \n"
     ]
    }
   ],
   "source": [
    "anti_sentences = [tweet.split() for tweet in cleaned_deny_tweets['tweet_clean']]+\\\n",
    "[tweet.split() for tweet in anti_cc_tweets]\n",
    "bigram_transformer = Phrases(anti_sentences)\n",
    "anti_model = Word2Vec(bigram_transformer[anti_sentences], min_count=5)\n",
    "print(anti_model)\n",
    "words = list(anti_model.wv.vocab)\n",
    "print(len(words))\n",
    "print(anti_model['climate'])\n",
    "anti_model.save('anti_cc_w2v_model.bin')"
   ]
  },
  {
   "cell_type": "code",
   "execution_count": 3,
   "metadata": {},
   "outputs": [],
   "source": [
    "pro_model = pickle.load(open('pro_cc_w2v_model.bin','rb'))\n",
    "anti_model = pickle.load(open('anti_cc_w2v_model.bin','rb'))"
   ]
  },
  {
   "cell_type": "code",
   "execution_count": 4,
   "metadata": {},
   "outputs": [],
   "source": [
    "POS_ASSOC_WORDS = ['american','america','family','home','security']"
   ]
  },
  {
   "cell_type": "code",
   "execution_count": 5,
   "metadata": {},
   "outputs": [],
   "source": [
    "words_to_lose_most_dire = ['climatechange','global_warming','globalwarming','climatecrisis','2c','2_c','2_degrees',\n",
    "                           'greenhouse_gases','greenhouse_gas','greenhousegas',\n",
    "                           'carbon_tax','carbontax','sustainable','sealevel_rise','sealevelrise',\n",
    "                           'extreme_weather','extremeweather',\n",
    "                           'capandtrade','environmental_justice','environmentaljustice',\n",
    "                           'carbon_capture','carboncapture','carbon_sequestration'\n",
    "                          ]"
   ]
  },
  {
   "cell_type": "code",
   "execution_count": null,
   "metadata": {},
   "outputs": [],
   "source": [
    "pro_model.wv.most_similar('climatechange',negative)"
   ]
  },
  {
   "cell_type": "code",
   "execution_count": 98,
   "metadata": {
    "scrolled": true
   },
   "outputs": [
    {
     "data": {
      "text/html": [
       "<div>\n",
       "<style scoped>\n",
       "    .dataframe tbody tr th:only-of-type {\n",
       "        vertical-align: middle;\n",
       "    }\n",
       "\n",
       "    .dataframe tbody tr th {\n",
       "        vertical-align: top;\n",
       "    }\n",
       "\n",
       "    .dataframe thead th {\n",
       "        text-align: right;\n",
       "    }\n",
       "</style>\n",
       "<table border=\"1\" class=\"dataframe\">\n",
       "  <thead>\n",
       "    <tr style=\"text-align: right;\">\n",
       "      <th></th>\n",
       "      <th>deny model</th>\n",
       "      <th>affirm model</th>\n",
       "    </tr>\n",
       "  </thead>\n",
       "  <tbody>\n",
       "    <tr>\n",
       "      <td>0</td>\n",
       "      <td>(widescale, 0.8284745812416077)</td>\n",
       "      <td>(air_con, 0.8075814247131348)</td>\n",
       "    </tr>\n",
       "    <tr>\n",
       "      <td>1</td>\n",
       "      <td>(competitiveness, 0.8153975605964661)</td>\n",
       "      <td>(taxpayer_money, 0.797571063041687)</td>\n",
       "    </tr>\n",
       "    <tr>\n",
       "      <td>2</td>\n",
       "      <td>(legally_binding, 0.8099596500396729)</td>\n",
       "      <td>(meaningfully, 0.7972826957702637)</td>\n",
       "    </tr>\n",
       "    <tr>\n",
       "      <td>3</td>\n",
       "      <td>(quotas, 0.8061230182647705)</td>\n",
       "      <td>(negative_emissions, 0.7873976230621338)</td>\n",
       "    </tr>\n",
       "    <tr>\n",
       "      <td>4</td>\n",
       "      <td>(blockadia, 0.8032004237174988)</td>\n",
       "      <td>(economical, 0.77967768907547)</td>\n",
       "    </tr>\n",
       "    <tr>\n",
       "      <td>5</td>\n",
       "      <td>(canadas_economy, 0.7995240688323975)</td>\n",
       "      <td>(decarbonisation, 0.7764716148376465)</td>\n",
       "    </tr>\n",
       "    <tr>\n",
       "      <td>6</td>\n",
       "      <td>(unreliables_windsolar, 0.797036349773407)</td>\n",
       "      <td>(decarbonize, 0.7710698843002319)</td>\n",
       "    </tr>\n",
       "    <tr>\n",
       "      <td>7</td>\n",
       "      <td>(gaias, 0.795820951461792)</td>\n",
       "      <td>(technologically, 0.7683504819869995)</td>\n",
       "    </tr>\n",
       "    <tr>\n",
       "      <td>8</td>\n",
       "      <td>(costefficient, 0.7950398921966553)</td>\n",
       "      <td>(an_effective, 0.7643512487411499)</td>\n",
       "    </tr>\n",
       "    <tr>\n",
       "      <td>9</td>\n",
       "      <td>(deregulation, 0.7918323278427124)</td>\n",
       "      <td>(decarb, 0.7642845511436462)</td>\n",
       "    </tr>\n",
       "    <tr>\n",
       "      <td>10</td>\n",
       "      <td>(worldbanks_nocoal, 0.7912072539329529)</td>\n",
       "      <td>(private_finance, 0.7617552280426025)</td>\n",
       "    </tr>\n",
       "    <tr>\n",
       "      <td>11</td>\n",
       "      <td>(obedience, 0.7911484837532043)</td>\n",
       "      <td>(market_mechanisms, 0.7607529759407043)</td>\n",
       "    </tr>\n",
       "    <tr>\n",
       "      <td>12</td>\n",
       "      <td>(electrification, 0.7908615469932556)</td>\n",
       "      <td>(nationally, 0.7599837779998779)</td>\n",
       "    </tr>\n",
       "    <tr>\n",
       "      <td>13</td>\n",
       "      <td>(emissions_reductions, 0.7895487546920776)</td>\n",
       "      <td>(deploy, 0.759494423866272)</td>\n",
       "    </tr>\n",
       "    <tr>\n",
       "      <td>14</td>\n",
       "      <td>(bloc, 0.7892305254936218)</td>\n",
       "      <td>(seforallorg, 0.7592731714248657)</td>\n",
       "    </tr>\n",
       "    <tr>\n",
       "      <td>15</td>\n",
       "      <td>(biggreen_subsidies, 0.7890549898147583)</td>\n",
       "      <td>(mining_jobs, 0.7562751770019531)</td>\n",
       "    </tr>\n",
       "    <tr>\n",
       "      <td>16</td>\n",
       "      <td>(government_subsidies, 0.787480354309082)</td>\n",
       "      <td>(teslamotors, 0.7559596300125122)</td>\n",
       "    </tr>\n",
       "    <tr>\n",
       "      <td>17</td>\n",
       "      <td>(energy_markets, 0.7872112989425659)</td>\n",
       "      <td>(carbon_intensive, 0.7536377906799316)</td>\n",
       "    </tr>\n",
       "    <tr>\n",
       "      <td>18</td>\n",
       "      <td>(environmental_defence, 0.7862560153007507)</td>\n",
       "      <td>(japans_nuclear, 0.7528586387634277)</td>\n",
       "    </tr>\n",
       "    <tr>\n",
       "      <td>19</td>\n",
       "      <td>(sanctions, 0.7858285903930664)</td>\n",
       "      <td>(density, 0.7522674798965454)</td>\n",
       "    </tr>\n",
       "  </tbody>\n",
       "</table>\n",
       "</div>"
      ],
      "text/plain": [
       "                                     deny model  \\\n",
       "0               (widescale, 0.8284745812416077)   \n",
       "1         (competitiveness, 0.8153975605964661)   \n",
       "2         (legally_binding, 0.8099596500396729)   \n",
       "3                  (quotas, 0.8061230182647705)   \n",
       "4               (blockadia, 0.8032004237174988)   \n",
       "5         (canadas_economy, 0.7995240688323975)   \n",
       "6    (unreliables_windsolar, 0.797036349773407)   \n",
       "7                    (gaias, 0.795820951461792)   \n",
       "8           (costefficient, 0.7950398921966553)   \n",
       "9            (deregulation, 0.7918323278427124)   \n",
       "10      (worldbanks_nocoal, 0.7912072539329529)   \n",
       "11              (obedience, 0.7911484837532043)   \n",
       "12        (electrification, 0.7908615469932556)   \n",
       "13   (emissions_reductions, 0.7895487546920776)   \n",
       "14                   (bloc, 0.7892305254936218)   \n",
       "15     (biggreen_subsidies, 0.7890549898147583)   \n",
       "16    (government_subsidies, 0.787480354309082)   \n",
       "17         (energy_markets, 0.7872112989425659)   \n",
       "18  (environmental_defence, 0.7862560153007507)   \n",
       "19              (sanctions, 0.7858285903930664)   \n",
       "\n",
       "                                affirm model  \n",
       "0              (air_con, 0.8075814247131348)  \n",
       "1        (taxpayer_money, 0.797571063041687)  \n",
       "2         (meaningfully, 0.7972826957702637)  \n",
       "3   (negative_emissions, 0.7873976230621338)  \n",
       "4             (economical, 0.77967768907547)  \n",
       "5      (decarbonisation, 0.7764716148376465)  \n",
       "6          (decarbonize, 0.7710698843002319)  \n",
       "7      (technologically, 0.7683504819869995)  \n",
       "8         (an_effective, 0.7643512487411499)  \n",
       "9               (decarb, 0.7642845511436462)  \n",
       "10     (private_finance, 0.7617552280426025)  \n",
       "11   (market_mechanisms, 0.7607529759407043)  \n",
       "12          (nationally, 0.7599837779998779)  \n",
       "13               (deploy, 0.759494423866272)  \n",
       "14         (seforallorg, 0.7592731714248657)  \n",
       "15         (mining_jobs, 0.7562751770019531)  \n",
       "16         (teslamotors, 0.7559596300125122)  \n",
       "17    (carbon_intensive, 0.7536377906799316)  \n",
       "18      (japans_nuclear, 0.7528586387634277)  \n",
       "19             (density, 0.7522674798965454)  "
      ]
     },
     "execution_count": 98,
     "metadata": {},
     "output_type": "execute_result"
    }
   ],
   "source": [
    "pd.DataFrame({\"deny model\": anti_model.wv.most_similar('decarbonization',topn=20),\n",
    "             \"affirm model\": pro_model.wv.most_similar('decarbonization',topn=20)})"
   ]
  },
  {
   "cell_type": "code",
   "execution_count": 105,
   "metadata": {},
   "outputs": [
    {
     "data": {
      "text/plain": [
       "[('redistribution', 0.6584789156913757),\n",
       " ('subsaharan_africa', 0.6433984637260437),\n",
       " ('environmentbill', 0.6395463943481445),\n",
       " ('stability', 0.6390159726142883),\n",
       " ('overshoot', 0.6374961137771606),\n",
       " ('precipitation', 0.635280966758728),\n",
       " ('food_production', 0.6346733570098877),\n",
       " ('harms_way', 0.6326895356178284),\n",
       " ('overall', 0.6324623227119446),\n",
       " ('mass_migration', 0.6315462589263916),\n",
       " ('possibly', 0.6308147311210632),\n",
       " ('staying_under', 0.62895667552948),\n",
       " ('midcentury', 0.6284984946250916),\n",
       " ('southeast_asia', 0.6273960471153259),\n",
       " ('water_vapor', 0.6271289587020874),\n",
       " ('27c_warming', 0.6250927448272705),\n",
       " ('water_scarcity', 0.6212232112884521),\n",
       " ('africamelting_glaciersbleaching', 0.6204346418380737),\n",
       " ('long_term', 0.6188766360282898),\n",
       " ('slowing', 0.618779182434082)]"
      ]
     },
     "execution_count": 105,
     "metadata": {},
     "output_type": "execute_result"
    }
   ],
   "source": [
    "pro_model.wv.most_similar(positive=['decarbonization','growth'],negative=['tax'],topn=20)"
   ]
  },
  {
   "cell_type": "code",
   "execution_count": 108,
   "metadata": {},
   "outputs": [
    {
     "data": {
      "text/plain": [
       "[('capital_cost', 0.7946188449859619),\n",
       " ('longevity', 0.7898778915405273),\n",
       " ('cost_effective', 0.7735344171524048),\n",
       " ('diversification', 0.7567723989486694),\n",
       " ('maize', 0.7544140219688416),\n",
       " ('crop_production', 0.7526968717575073),\n",
       " ('fertility', 0.7490640878677368),\n",
       " ('coalfired_plants', 0.7474467158317566),\n",
       " ('requirements', 0.7430000901222229),\n",
       " ('deforestation', 0.7427343726158142)]"
      ]
     },
     "execution_count": 108,
     "metadata": {},
     "output_type": "execute_result"
    }
   ],
   "source": [
    "anti_model.wv.most_similar(positive=['decarbonization','growth'],topn=10)"
   ]
  },
  {
   "cell_type": "code",
   "execution_count": 109,
   "metadata": {},
   "outputs": [
    {
     "data": {
      "text/plain": [
       "[('land_area', 0.7342644333839417),\n",
       " ('rainfall', 0.6956652998924255),\n",
       " ('decreased', 0.6920503377914429),\n",
       " ('geographic', 0.6908560395240784),\n",
       " ('coastal_land', 0.687272310256958),\n",
       " ('volcanic_activity', 0.6768499612808228),\n",
       " ('buildup', 0.6761024594306946),\n",
       " ('thickness', 0.674748420715332),\n",
       " ('intensity', 0.6745591163635254),\n",
       " ('mortality', 0.6731075048446655)]"
      ]
     },
     "execution_count": 109,
     "metadata": {},
     "output_type": "execute_result"
    }
   ],
   "source": [
    "anti_model.wv.most_similar(positive=['decarbonization','growth'],negative=['carbontax'],topn=10)"
   ]
  },
  {
   "cell_type": "code",
   "execution_count": 66,
   "metadata": {
    "scrolled": true
   },
   "outputs": [
    {
     "data": {
      "text/plain": [
       "[('negative_emissions', 0.8293821215629578),\n",
       " ('taxpayer_money', 0.8189895153045654),\n",
       " ('decarbonisation', 0.817955493927002),\n",
       " ('globe2016', 0.7892328500747681),\n",
       " ('fuel_poverty', 0.7877657413482666),\n",
       " ('rdd', 0.7859612703323364),\n",
       " ('decarb', 0.7851101160049438),\n",
       " ('sharpish', 0.7849617004394531),\n",
       " ('co2_removal', 0.783893346786499),\n",
       " ('nationally', 0.7829822301864624)]"
      ]
     },
     "execution_count": 66,
     "metadata": {},
     "output_type": "execute_result"
    }
   ],
   "source": [
    "pro_model.wv.most_similar('decarbonization')"
   ]
  },
  {
   "cell_type": "code",
   "execution_count": 67,
   "metadata": {},
   "outputs": [
    {
     "data": {
      "text/plain": [
       "[('urgent_action', 0.839418888092041),\n",
       " ('multitrillion_dollar', 0.8292790651321411),\n",
       " ('gaias', 0.8223744034767151),\n",
       " ('decarbonizing', 0.8200616836547852),\n",
       " ('smart_goals', 0.814130425453186),\n",
       " ('carboncapture', 0.8116526007652283),\n",
       " ('nuclearthe', 0.8102245926856995),\n",
       " ('capntrade', 0.8097796440124512),\n",
       " ('waste_disposal', 0.8014601469039917),\n",
       " ('fulllifecycle', 0.8010364770889282)]"
      ]
     },
     "execution_count": 67,
     "metadata": {},
     "output_type": "execute_result"
    }
   ],
   "source": [
    "anti_model.wv.most_similar('decarbonization')"
   ]
  },
  {
   "cell_type": "code",
   "execution_count": 61,
   "metadata": {},
   "outputs": [],
   "source": [
    "pro_words_to_lose_most_sim = pd.DataFrame({w: [x[0] for x in pro_model.wv.most_similar(w)]\n",
    "                                           for w in words_to_lose_most_dire})\n",
    "anti_words_to_lose_most_sim = pd.DataFrame({w: [x[0] for x in anti_model.wv.most_similar(w)]\n",
    "                                           for w in words_to_lose_most_dire if w in anti_model.wv.vocab})"
   ]
  },
  {
   "cell_type": "code",
   "execution_count": 64,
   "metadata": {},
   "outputs": [
    {
     "data": {
      "text/html": [
       "<div>\n",
       "<style scoped>\n",
       "    .dataframe tbody tr th:only-of-type {\n",
       "        vertical-align: middle;\n",
       "    }\n",
       "\n",
       "    .dataframe tbody tr th {\n",
       "        vertical-align: top;\n",
       "    }\n",
       "\n",
       "    .dataframe thead th {\n",
       "        text-align: right;\n",
       "    }\n",
       "</style>\n",
       "<table border=\"1\" class=\"dataframe\">\n",
       "  <thead>\n",
       "    <tr style=\"text-align: right;\">\n",
       "      <th></th>\n",
       "      <th>climatechange</th>\n",
       "      <th>global_warming</th>\n",
       "      <th>globalwarming</th>\n",
       "      <th>climatecrisis</th>\n",
       "      <th>2c</th>\n",
       "      <th>2_c</th>\n",
       "      <th>2_degrees</th>\n",
       "      <th>greenhouse_gases</th>\n",
       "      <th>greenhouse_gas</th>\n",
       "      <th>greenhousegas</th>\n",
       "      <th>carbon_tax</th>\n",
       "      <th>carbontax</th>\n",
       "      <th>sustainable</th>\n",
       "      <th>sealevel_rise</th>\n",
       "      <th>sealevelrise</th>\n",
       "      <th>extreme_weather</th>\n",
       "      <th>extremeweather</th>\n",
       "      <th>capandtrade</th>\n",
       "      <th>environmental_justice</th>\n",
       "      <th>environmentaljustice</th>\n",
       "      <th>carbon_capture</th>\n",
       "      <th>carboncapture</th>\n",
       "      <th>carbon_sequestration</th>\n",
       "    </tr>\n",
       "  </thead>\n",
       "  <tbody>\n",
       "    <tr>\n",
       "      <td>0</td>\n",
       "      <td>globalwarming</td>\n",
       "      <td>globalwarming</td>\n",
       "      <td>global_warming</td>\n",
       "      <td>lets_raise</td>\n",
       "      <td>15c</td>\n",
       "      <td>celsius</td>\n",
       "      <td>celsius</td>\n",
       "      <td>carbon_dioxide</td>\n",
       "      <td>ghg</td>\n",
       "      <td>ratio</td>\n",
       "      <td>carbon_price</td>\n",
       "      <td>crusade</td>\n",
       "      <td>innovation</td>\n",
       "      <td>frequency</td>\n",
       "      <td>variability</td>\n",
       "      <td>floods</td>\n",
       "      <td>ymmfire</td>\n",
       "      <td>carbon_tax</td>\n",
       "      <td>environmental</td>\n",
       "      <td>tomorrow_night</td>\n",
       "      <td>energy_storage</td>\n",
       "      <td>planning_permission</td>\n",
       "      <td>densely_populated</td>\n",
       "    </tr>\n",
       "    <tr>\n",
       "      <td>1</td>\n",
       "      <td>change</td>\n",
       "      <td>warming</td>\n",
       "      <td>temperature_rise</td>\n",
       "      <td>adaptourworld</td>\n",
       "      <td>2_degrees</td>\n",
       "      <td>2_degrees</td>\n",
       "      <td>15_c</td>\n",
       "      <td>methane_emissions</td>\n",
       "      <td>carbon_intensity</td>\n",
       "      <td>growth_rates</td>\n",
       "      <td>capandtrade</td>\n",
       "      <td>la_times</td>\n",
       "      <td>cleaner</td>\n",
       "      <td>heat_waves</td>\n",
       "      <td>john_abraham</td>\n",
       "      <td>extremes</td>\n",
       "      <td>klimat</td>\n",
       "      <td>proposal</td>\n",
       "      <td>justice</td>\n",
       "      <td>jimcarrwpg</td>\n",
       "      <td>ccs</td>\n",
       "      <td>fuel_cell</td>\n",
       "      <td>leaf</td>\n",
       "    </tr>\n",
       "    <tr>\n",
       "      <td>2</td>\n",
       "      <td>global_warming</td>\n",
       "      <td>temperature_rise</td>\n",
       "      <td>warming</td>\n",
       "      <td>nrdc_president</td>\n",
       "      <td>15_c</td>\n",
       "      <td>two_degrees</td>\n",
       "      <td>2_c</td>\n",
       "      <td>black_carbon</td>\n",
       "      <td>emission</td>\n",
       "      <td>via_yalee360</td>\n",
       "      <td>proposal</td>\n",
       "      <td>huckabee</td>\n",
       "      <td>safer</td>\n",
       "      <td>coastal_flooding</td>\n",
       "      <td>extremeweather</td>\n",
       "      <td>flooding</td>\n",
       "      <td>baking</td>\n",
       "      <td>treasury</td>\n",
       "      <td>enviro</td>\n",
       "      <td>sustvatican</td>\n",
       "      <td>cleanenergy</td>\n",
       "      <td>renewablepowered</td>\n",
       "      <td>by_futureclimate</td>\n",
       "    </tr>\n",
       "    <tr>\n",
       "      <td>3</td>\n",
       "      <td>paperli</td>\n",
       "      <td>change</td>\n",
       "      <td>sealevelrise</td>\n",
       "      <td>rheasuh</td>\n",
       "      <td>2_c</td>\n",
       "      <td>4c</td>\n",
       "      <td>3c</td>\n",
       "      <td>co</td>\n",
       "      <td>ghg_emissions</td>\n",
       "      <td>markplackett1</td>\n",
       "      <td>govt</td>\n",
       "      <td>dirk_forrister</td>\n",
       "      <td>lowcarbon</td>\n",
       "      <td>patterns</td>\n",
       "      <td>glacial_melt</td>\n",
       "      <td>hurricanes</td>\n",
       "      <td>environment_environmentalnews</td>\n",
       "      <td>gov</td>\n",
       "      <td>environmental_issues</td>\n",
       "      <td>untangling</td>\n",
       "      <td>energy_efficiency</td>\n",
       "      <td>act4renewables</td>\n",
       "      <td>coal_dust</td>\n",
       "    </tr>\n",
       "    <tr>\n",
       "      <td>4</td>\n",
       "      <td>survival</td>\n",
       "      <td>global_heating</td>\n",
       "      <td>sandy</td>\n",
       "      <td>climateemergency</td>\n",
       "      <td>4c</td>\n",
       "      <td>2oc</td>\n",
       "      <td>15_degrees</td>\n",
       "      <td>ghgs</td>\n",
       "      <td>carbon_dioxide</td>\n",
       "      <td>warns_official</td>\n",
       "      <td>bill</td>\n",
       "      <td>newsweek</td>\n",
       "      <td>affordable</td>\n",
       "      <td>precipitation</td>\n",
       "      <td>weather_extremes</td>\n",
       "      <td>heat_waves</td>\n",
       "      <td>abfire</td>\n",
       "      <td>osborne</td>\n",
       "      <td>equity</td>\n",
       "      <td>oneplanetliving</td>\n",
       "      <td>nuclear_power</td>\n",
       "      <td>goodenergy</td>\n",
       "      <td>iys2015</td>\n",
       "    </tr>\n",
       "    <tr>\n",
       "      <td>5</td>\n",
       "      <td>poverty</td>\n",
       "      <td>warming_trend</td>\n",
       "      <td>arctic_melt</td>\n",
       "      <td>dots</td>\n",
       "      <td>carbon_budget</td>\n",
       "      <td>15_c</td>\n",
       "      <td>4c</td>\n",
       "      <td>methane</td>\n",
       "      <td>per_capita</td>\n",
       "      <td>powerplant</td>\n",
       "      <td>tax</td>\n",
       "      <td>nprnews</td>\n",
       "      <td>healthier</td>\n",
       "      <td>variability</td>\n",
       "      <td>co2driven</td>\n",
       "      <td>sealevel_rise</td>\n",
       "      <td>climatechangeus</td>\n",
       "      <td>govt</td>\n",
       "      <td>democratic</td>\n",
       "      <td>downplayed</td>\n",
       "      <td>efficiency</td>\n",
       "      <td>greenenergyuk</td>\n",
       "      <td>herders</td>\n",
       "    </tr>\n",
       "    <tr>\n",
       "      <td>6</td>\n",
       "      <td>climate</td>\n",
       "      <td>human_activity</td>\n",
       "      <td>permafrost_melt</td>\n",
       "      <td>fundamental</td>\n",
       "      <td>3c</td>\n",
       "      <td>2_degree</td>\n",
       "      <td>limiting_global</td>\n",
       "      <td>dramatically</td>\n",
       "      <td>cutting_carbon</td>\n",
       "      <td>revision</td>\n",
       "      <td>carbon_pricing</td>\n",
       "      <td>mitt</td>\n",
       "      <td>resilient</td>\n",
       "      <td>extremes</td>\n",
       "      <td>severe_weather</td>\n",
       "      <td>natural_disasters</td>\n",
       "      <td>scientific_american</td>\n",
       "      <td>keystone</td>\n",
       "      <td>environmental_protection</td>\n",
       "      <td>rogers</td>\n",
       "      <td>clean_tech</td>\n",
       "      <td>death_knell</td>\n",
       "      <td>harms_way</td>\n",
       "    </tr>\n",
       "    <tr>\n",
       "      <td>7</td>\n",
       "      <td>plastic_pollution</td>\n",
       "      <td>sea_level</td>\n",
       "      <td>catastrophic</td>\n",
       "      <td>gender</td>\n",
       "      <td>15_degrees</td>\n",
       "      <td>1c</td>\n",
       "      <td>two_degrees</td>\n",
       "      <td>co2</td>\n",
       "      <td>ghgs</td>\n",
       "      <td>could_explode</td>\n",
       "      <td>labour</td>\n",
       "      <td>waronnature</td>\n",
       "      <td>healthy</td>\n",
       "      <td>rainfall</td>\n",
       "      <td>malaria</td>\n",
       "      <td>drought</td>\n",
       "      <td>richard_seager</td>\n",
       "      <td>labour</td>\n",
       "      <td>democracy</td>\n",
       "      <td>hyde</td>\n",
       "      <td>shale_gas</td>\n",
       "      <td>siemensenergy</td>\n",
       "      <td>himalayan</td>\n",
       "    </tr>\n",
       "    <tr>\n",
       "      <td>8</td>\n",
       "      <td>temperature_rise</td>\n",
       "      <td>extreme_weather</td>\n",
       "      <td>sealevel_rise</td>\n",
       "      <td>diversity</td>\n",
       "      <td>celsius</td>\n",
       "      <td>3c</td>\n",
       "      <td>2c</td>\n",
       "      <td>atmosphere</td>\n",
       "      <td>energyrelated_co2</td>\n",
       "      <td>35_percent</td>\n",
       "      <td>budget</td>\n",
       "      <td>pat</td>\n",
       "      <td>transportation</td>\n",
       "      <td>drought</td>\n",
       "      <td>catastrophes</td>\n",
       "      <td>droughts</td>\n",
       "      <td>devastating_wildfires</td>\n",
       "      <td>legislature</td>\n",
       "      <td>collaboration</td>\n",
       "      <td>garrison</td>\n",
       "      <td>renewable_heat</td>\n",
       "      <td>2500ft</td>\n",
       "      <td>maintenance</td>\n",
       "    </tr>\n",
       "    <tr>\n",
       "      <td>9</td>\n",
       "      <td>changeactonclimate_climatechange</td>\n",
       "      <td>sandy</td>\n",
       "      <td>drought</td>\n",
       "      <td>reducing_inequality</td>\n",
       "      <td>limiting_warming</td>\n",
       "      <td>c</td>\n",
       "      <td>1c</td>\n",
       "      <td>significantly</td>\n",
       "      <td>co2_emissions</td>\n",
       "      <td>carbon_allowances</td>\n",
       "      <td>osborne</td>\n",
       "      <td>keystone_pipeline</td>\n",
       "      <td>greener</td>\n",
       "      <td>flooding</td>\n",
       "      <td>food_shortages</td>\n",
       "      <td>migration</td>\n",
       "      <td>wild_weather</td>\n",
       "      <td>uk_govt</td>\n",
       "      <td>community</td>\n",
       "      <td>aronofsky</td>\n",
       "      <td>offshore_wind</td>\n",
       "      <td>renewablechoice</td>\n",
       "      <td>soy</td>\n",
       "    </tr>\n",
       "  </tbody>\n",
       "</table>\n",
       "</div>"
      ],
      "text/plain": [
       "                      climatechange    global_warming     globalwarming  \\\n",
       "0                     globalwarming     globalwarming    global_warming   \n",
       "1                            change           warming  temperature_rise   \n",
       "2                    global_warming  temperature_rise           warming   \n",
       "3                           paperli            change      sealevelrise   \n",
       "4                          survival    global_heating             sandy   \n",
       "5                           poverty     warming_trend       arctic_melt   \n",
       "6                           climate    human_activity   permafrost_melt   \n",
       "7                 plastic_pollution         sea_level      catastrophic   \n",
       "8                  temperature_rise   extreme_weather     sealevel_rise   \n",
       "9  changeactonclimate_climatechange             sandy           drought   \n",
       "\n",
       "         climatecrisis                2c          2_c        2_degrees  \\\n",
       "0           lets_raise               15c      celsius          celsius   \n",
       "1        adaptourworld         2_degrees    2_degrees             15_c   \n",
       "2       nrdc_president              15_c  two_degrees              2_c   \n",
       "3              rheasuh               2_c           4c               3c   \n",
       "4     climateemergency                4c          2oc       15_degrees   \n",
       "5                 dots     carbon_budget         15_c               4c   \n",
       "6          fundamental                3c     2_degree  limiting_global   \n",
       "7               gender        15_degrees           1c      two_degrees   \n",
       "8            diversity           celsius           3c               2c   \n",
       "9  reducing_inequality  limiting_warming            c               1c   \n",
       "\n",
       "    greenhouse_gases     greenhouse_gas      greenhousegas      carbon_tax  \\\n",
       "0     carbon_dioxide                ghg              ratio    carbon_price   \n",
       "1  methane_emissions   carbon_intensity       growth_rates     capandtrade   \n",
       "2       black_carbon           emission       via_yalee360        proposal   \n",
       "3                 co      ghg_emissions      markplackett1            govt   \n",
       "4               ghgs     carbon_dioxide     warns_official            bill   \n",
       "5            methane         per_capita         powerplant             tax   \n",
       "6       dramatically     cutting_carbon           revision  carbon_pricing   \n",
       "7                co2               ghgs      could_explode          labour   \n",
       "8         atmosphere  energyrelated_co2         35_percent          budget   \n",
       "9      significantly      co2_emissions  carbon_allowances         osborne   \n",
       "\n",
       "           carbontax     sustainable     sealevel_rise      sealevelrise  \\\n",
       "0            crusade      innovation         frequency       variability   \n",
       "1           la_times         cleaner        heat_waves      john_abraham   \n",
       "2           huckabee           safer  coastal_flooding    extremeweather   \n",
       "3     dirk_forrister       lowcarbon          patterns      glacial_melt   \n",
       "4           newsweek      affordable     precipitation  weather_extremes   \n",
       "5            nprnews       healthier       variability         co2driven   \n",
       "6               mitt       resilient          extremes    severe_weather   \n",
       "7        waronnature         healthy          rainfall           malaria   \n",
       "8                pat  transportation           drought      catastrophes   \n",
       "9  keystone_pipeline         greener          flooding    food_shortages   \n",
       "\n",
       "     extreme_weather                 extremeweather  capandtrade  \\\n",
       "0             floods                        ymmfire   carbon_tax   \n",
       "1           extremes                         klimat     proposal   \n",
       "2           flooding                         baking     treasury   \n",
       "3         hurricanes  environment_environmentalnews          gov   \n",
       "4         heat_waves                         abfire      osborne   \n",
       "5      sealevel_rise                climatechangeus         govt   \n",
       "6  natural_disasters            scientific_american     keystone   \n",
       "7            drought                 richard_seager       labour   \n",
       "8           droughts          devastating_wildfires  legislature   \n",
       "9          migration                   wild_weather      uk_govt   \n",
       "\n",
       "      environmental_justice environmentaljustice     carbon_capture  \\\n",
       "0             environmental       tomorrow_night     energy_storage   \n",
       "1                   justice           jimcarrwpg                ccs   \n",
       "2                    enviro          sustvatican        cleanenergy   \n",
       "3      environmental_issues           untangling  energy_efficiency   \n",
       "4                    equity      oneplanetliving      nuclear_power   \n",
       "5                democratic           downplayed         efficiency   \n",
       "6  environmental_protection               rogers         clean_tech   \n",
       "7                 democracy                 hyde          shale_gas   \n",
       "8             collaboration             garrison     renewable_heat   \n",
       "9                 community            aronofsky      offshore_wind   \n",
       "\n",
       "         carboncapture carbon_sequestration  \n",
       "0  planning_permission    densely_populated  \n",
       "1            fuel_cell                 leaf  \n",
       "2     renewablepowered     by_futureclimate  \n",
       "3       act4renewables            coal_dust  \n",
       "4           goodenergy              iys2015  \n",
       "5        greenenergyuk              herders  \n",
       "6          death_knell            harms_way  \n",
       "7        siemensenergy            himalayan  \n",
       "8               2500ft          maintenance  \n",
       "9      renewablechoice                  soy  "
      ]
     },
     "execution_count": 64,
     "metadata": {},
     "output_type": "execute_result"
    }
   ],
   "source": [
    "pro_words_to_lose_most_sim"
   ]
  },
  {
   "cell_type": "code",
   "execution_count": 65,
   "metadata": {},
   "outputs": [
    {
     "data": {
      "text/html": [
       "<div>\n",
       "<style scoped>\n",
       "    .dataframe tbody tr th:only-of-type {\n",
       "        vertical-align: middle;\n",
       "    }\n",
       "\n",
       "    .dataframe tbody tr th {\n",
       "        vertical-align: top;\n",
       "    }\n",
       "\n",
       "    .dataframe thead th {\n",
       "        text-align: right;\n",
       "    }\n",
       "</style>\n",
       "<table border=\"1\" class=\"dataframe\">\n",
       "  <thead>\n",
       "    <tr style=\"text-align: right;\">\n",
       "      <th></th>\n",
       "      <th>climatechange</th>\n",
       "      <th>global_warming</th>\n",
       "      <th>globalwarming</th>\n",
       "      <th>climatecrisis</th>\n",
       "      <th>2c</th>\n",
       "      <th>2_degrees</th>\n",
       "      <th>greenhouse_gases</th>\n",
       "      <th>greenhouse_gas</th>\n",
       "      <th>greenhousegas</th>\n",
       "      <th>carbon_tax</th>\n",
       "      <th>carbontax</th>\n",
       "      <th>sustainable</th>\n",
       "      <th>sealevel_rise</th>\n",
       "      <th>sealevelrise</th>\n",
       "      <th>extreme_weather</th>\n",
       "      <th>extremeweather</th>\n",
       "      <th>capandtrade</th>\n",
       "      <th>environmental_justice</th>\n",
       "      <th>carbon_capture</th>\n",
       "      <th>carboncapture</th>\n",
       "      <th>carbon_sequestration</th>\n",
       "    </tr>\n",
       "  </thead>\n",
       "  <tbody>\n",
       "    <tr>\n",
       "      <td>0</td>\n",
       "      <td>climatechange_globalwarming</td>\n",
       "      <td>globalwarming</td>\n",
       "      <td>global_warming</td>\n",
       "      <td>halt</td>\n",
       "      <td>15c</td>\n",
       "      <td>10c</td>\n",
       "      <td>ghgs</td>\n",
       "      <td>carbon_dioxide</td>\n",
       "      <td>redwoods</td>\n",
       "      <td>capandtrade</td>\n",
       "      <td>parisagreement</td>\n",
       "      <td>inefficient</td>\n",
       "      <td>slr</td>\n",
       "      <td>glacier_melt</td>\n",
       "      <td>hurricanes</td>\n",
       "      <td>globalcooling</td>\n",
       "      <td>obamas</td>\n",
       "      <td>sen_inhofe</td>\n",
       "      <td>nuclear_power</td>\n",
       "      <td>voltaire</td>\n",
       "      <td>shakeup</td>\n",
       "    </tr>\n",
       "    <tr>\n",
       "      <td>1</td>\n",
       "      <td>globalwarming</td>\n",
       "      <td>climate_change</td>\n",
       "      <td>cagw</td>\n",
       "      <td>carbontax</td>\n",
       "      <td>05c</td>\n",
       "      <td>4c</td>\n",
       "      <td>gases</td>\n",
       "      <td>ghg</td>\n",
       "      <td>residential</td>\n",
       "      <td>tax</td>\n",
       "      <td>socialism</td>\n",
       "      <td>nuclear_power</td>\n",
       "      <td>sealevelrise</td>\n",
       "      <td>climatechange_sealevelrise</td>\n",
       "      <td>floods</td>\n",
       "      <td>climatechange_extremeweather</td>\n",
       "      <td>bill</td>\n",
       "      <td>readies</td>\n",
       "      <td>energy_efficiency</td>\n",
       "      <td>shrewd</td>\n",
       "      <td>co_jayweatherill</td>\n",
       "    </tr>\n",
       "    <tr>\n",
       "      <td>2</td>\n",
       "      <td>auspol</td>\n",
       "      <td>warming</td>\n",
       "      <td>climatechange</td>\n",
       "      <td>better_future</td>\n",
       "      <td>by_2100</td>\n",
       "      <td>015c</td>\n",
       "      <td>ir_radiation</td>\n",
       "      <td>greenhouse</td>\n",
       "      <td>logarithmically</td>\n",
       "      <td>bill</td>\n",
       "      <td>climateaction</td>\n",
       "      <td>viable</td>\n",
       "      <td>acceleration</td>\n",
       "      <td>sealevel_rise</td>\n",
       "      <td>severe_weather</td>\n",
       "      <td>climatechange_globalwarming</td>\n",
       "      <td>federal</td>\n",
       "      <td>tony_abbotts</td>\n",
       "      <td>fracking</td>\n",
       "      <td>india_rejects</td>\n",
       "      <td>feedstock</td>\n",
       "    </tr>\n",
       "    <tr>\n",
       "      <td>3</td>\n",
       "      <td>caca</td>\n",
       "      <td>bad_weather</td>\n",
       "      <td>climate_change</td>\n",
       "      <td>fight</td>\n",
       "      <td>3c</td>\n",
       "      <td>1_degree</td>\n",
       "      <td>water_vapor</td>\n",
       "      <td>greenhouse_gases</td>\n",
       "      <td>emis</td>\n",
       "      <td>carbontax</td>\n",
       "      <td>our_economy</td>\n",
       "      <td>economically</td>\n",
       "      <td>temp_rise</td>\n",
       "      <td>deceleration</td>\n",
       "      <td>tornadoes</td>\n",
       "      <td>srex</td>\n",
       "      <td>labor</td>\n",
       "      <td>has_vowed</td>\n",
       "      <td>clean_energy</td>\n",
       "      <td>cest</td>\n",
       "      <td>coercion</td>\n",
       "    </tr>\n",
       "    <tr>\n",
       "      <td>4</td>\n",
       "      <td>cagw</td>\n",
       "      <td>global_warmings</td>\n",
       "      <td>imminent</td>\n",
       "      <td>climateaction</td>\n",
       "      <td>1c</td>\n",
       "      <td>5c</td>\n",
       "      <td>methane</td>\n",
       "      <td>carbon</td>\n",
       "      <td>planetwarming</td>\n",
       "      <td>trade</td>\n",
       "      <td>democracy</td>\n",
       "      <td>expensive</td>\n",
       "      <td>frequency_intensity</td>\n",
       "      <td>decelerating</td>\n",
       "      <td>extreme</td>\n",
       "      <td>special_report</td>\n",
       "      <td>decision</td>\n",
       "      <td>nominee</td>\n",
       "      <td>nuclear</td>\n",
       "      <td>renewal</td>\n",
       "      <td>carbonneutral</td>\n",
       "    </tr>\n",
       "    <tr>\n",
       "      <td>5</td>\n",
       "      <td>climatism_climatechange</td>\n",
       "      <td>cagw</td>\n",
       "      <td>cc</td>\n",
       "      <td>slush_funds</td>\n",
       "      <td>15c_above</td>\n",
       "      <td>140</td>\n",
       "      <td>human_emissions</td>\n",
       "      <td>water_vapour</td>\n",
       "      <td>downwelling_ir</td>\n",
       "      <td>cap_and</td>\n",
       "      <td>phaseout_coal</td>\n",
       "      <td>efficient</td>\n",
       "      <td>sl_rise</td>\n",
       "      <td>level_rise</td>\n",
       "      <td>cyclones</td>\n",
       "      <td>ar5</td>\n",
       "      <td>paris_agreement</td>\n",
       "      <td>shareholder</td>\n",
       "      <td>shale_gas</td>\n",
       "      <td>urgent_action</td>\n",
       "      <td>enforcing</td>\n",
       "    </tr>\n",
       "    <tr>\n",
       "      <td>6</td>\n",
       "      <td>extremeweather</td>\n",
       "      <td>gw</td>\n",
       "      <td>warming</td>\n",
       "      <td>democracy</td>\n",
       "      <td>15_c</td>\n",
       "      <td>03c</td>\n",
       "      <td>radiation</td>\n",
       "      <td>feedback</td>\n",
       "      <td>under_02</td>\n",
       "      <td>deal</td>\n",
       "      <td>climatecrisis</td>\n",
       "      <td>cheap</td>\n",
       "      <td>new_paper</td>\n",
       "      <td>sl</td>\n",
       "      <td>droughts</td>\n",
       "      <td>via_stevesgoddard</td>\n",
       "      <td>coal_industry</td>\n",
       "      <td>prominent_environmentalist</td>\n",
       "      <td>utility</td>\n",
       "      <td>prohillary_infomercial</td>\n",
       "      <td>fiat</td>\n",
       "    </tr>\n",
       "    <tr>\n",
       "      <td>7</td>\n",
       "      <td>via_jwspry</td>\n",
       "      <td>drought</td>\n",
       "      <td>global_warmings</td>\n",
       "      <td>federal_government</td>\n",
       "      <td>017c</td>\n",
       "      <td>15_c</td>\n",
       "      <td>water_vapour</td>\n",
       "      <td>methane</td>\n",
       "      <td>termite</td>\n",
       "      <td>plan</td>\n",
       "      <td>deal</td>\n",
       "      <td>solarwind</td>\n",
       "      <td>climate_sensitivity</td>\n",
       "      <td>19982012</td>\n",
       "      <td>wildfires</td>\n",
       "      <td>caca</td>\n",
       "      <td>gop</td>\n",
       "      <td>bravo</td>\n",
       "      <td>wind_power</td>\n",
       "      <td>hurricane_harvey</td>\n",
       "      <td>regulator</td>\n",
       "    </tr>\n",
       "    <tr>\n",
       "      <td>8</td>\n",
       "      <td>cc</td>\n",
       "      <td>trace_co2</td>\n",
       "      <td>global_warmingthe</td>\n",
       "      <td>eradicate_poverty</td>\n",
       "      <td>1_c</td>\n",
       "      <td>3c</td>\n",
       "      <td>kinetic_energy</td>\n",
       "      <td>greenhousegas</td>\n",
       "      <td>lw_radiation</td>\n",
       "      <td>trump</td>\n",
       "      <td>greennewdeal</td>\n",
       "      <td>costeffective</td>\n",
       "      <td>natural_variation</td>\n",
       "      <td>mmyr</td>\n",
       "      <td>events</td>\n",
       "      <td>climatism_climatechange</td>\n",
       "      <td>eu</td>\n",
       "      <td>cop22</td>\n",
       "      <td>renewable_energy</td>\n",
       "      <td>os</td>\n",
       "      <td>cleancoal</td>\n",
       "    </tr>\n",
       "    <tr>\n",
       "      <td>9</td>\n",
       "      <td>climate_change</td>\n",
       "      <td>agw</td>\n",
       "      <td>co2agw_climatechange</td>\n",
       "      <td>humanitys_future</td>\n",
       "      <td>0001</td>\n",
       "      <td>032</td>\n",
       "      <td>carbon_dioxide</td>\n",
       "      <td>conjecture</td>\n",
       "      <td>sequoias</td>\n",
       "      <td>trade_system</td>\n",
       "      <td>decision</td>\n",
       "      <td>affordable</td>\n",
       "      <td>magnitude_andor</td>\n",
       "      <td>sealevels</td>\n",
       "      <td>heat_waves</td>\n",
       "      <td>alarmism_auspol</td>\n",
       "      <td>trade</td>\n",
       "      <td>executive</td>\n",
       "      <td>reliable_power</td>\n",
       "      <td>leed</td>\n",
       "      <td>weapons</td>\n",
       "    </tr>\n",
       "  </tbody>\n",
       "</table>\n",
       "</div>"
      ],
      "text/plain": [
       "                 climatechange   global_warming         globalwarming  \\\n",
       "0  climatechange_globalwarming    globalwarming        global_warming   \n",
       "1                globalwarming   climate_change                  cagw   \n",
       "2                       auspol          warming         climatechange   \n",
       "3                         caca      bad_weather        climate_change   \n",
       "4                         cagw  global_warmings              imminent   \n",
       "5      climatism_climatechange             cagw                    cc   \n",
       "6               extremeweather               gw               warming   \n",
       "7                   via_jwspry          drought       global_warmings   \n",
       "8                           cc        trace_co2     global_warmingthe   \n",
       "9               climate_change              agw  co2agw_climatechange   \n",
       "\n",
       "        climatecrisis         2c 2_degrees greenhouse_gases    greenhouse_gas  \\\n",
       "0                halt        15c       10c             ghgs    carbon_dioxide   \n",
       "1           carbontax        05c        4c            gases               ghg   \n",
       "2       better_future    by_2100      015c     ir_radiation        greenhouse   \n",
       "3               fight         3c  1_degree      water_vapor  greenhouse_gases   \n",
       "4       climateaction         1c        5c          methane            carbon   \n",
       "5         slush_funds  15c_above       140  human_emissions      water_vapour   \n",
       "6           democracy       15_c       03c        radiation          feedback   \n",
       "7  federal_government       017c      15_c     water_vapour           methane   \n",
       "8   eradicate_poverty        1_c        3c   kinetic_energy     greenhousegas   \n",
       "9    humanitys_future       0001       032   carbon_dioxide        conjecture   \n",
       "\n",
       "     greenhousegas    carbon_tax       carbontax    sustainable  \\\n",
       "0         redwoods   capandtrade  parisagreement    inefficient   \n",
       "1      residential           tax       socialism  nuclear_power   \n",
       "2  logarithmically          bill   climateaction         viable   \n",
       "3             emis     carbontax     our_economy   economically   \n",
       "4    planetwarming         trade       democracy      expensive   \n",
       "5   downwelling_ir       cap_and   phaseout_coal      efficient   \n",
       "6         under_02          deal   climatecrisis          cheap   \n",
       "7          termite          plan            deal      solarwind   \n",
       "8     lw_radiation         trump    greennewdeal  costeffective   \n",
       "9         sequoias  trade_system        decision     affordable   \n",
       "\n",
       "         sealevel_rise                sealevelrise extreme_weather  \\\n",
       "0                  slr                glacier_melt      hurricanes   \n",
       "1         sealevelrise  climatechange_sealevelrise          floods   \n",
       "2         acceleration               sealevel_rise  severe_weather   \n",
       "3            temp_rise                deceleration       tornadoes   \n",
       "4  frequency_intensity                decelerating         extreme   \n",
       "5              sl_rise                  level_rise        cyclones   \n",
       "6            new_paper                          sl        droughts   \n",
       "7  climate_sensitivity                    19982012       wildfires   \n",
       "8    natural_variation                        mmyr          events   \n",
       "9      magnitude_andor                   sealevels      heat_waves   \n",
       "\n",
       "                 extremeweather      capandtrade       environmental_justice  \\\n",
       "0                 globalcooling           obamas                  sen_inhofe   \n",
       "1  climatechange_extremeweather             bill                     readies   \n",
       "2   climatechange_globalwarming          federal                tony_abbotts   \n",
       "3                          srex            labor                   has_vowed   \n",
       "4                special_report         decision                     nominee   \n",
       "5                           ar5  paris_agreement                 shareholder   \n",
       "6             via_stevesgoddard    coal_industry  prominent_environmentalist   \n",
       "7                          caca              gop                       bravo   \n",
       "8       climatism_climatechange               eu                       cop22   \n",
       "9               alarmism_auspol            trade                   executive   \n",
       "\n",
       "      carbon_capture           carboncapture carbon_sequestration  \n",
       "0      nuclear_power                voltaire              shakeup  \n",
       "1  energy_efficiency                  shrewd     co_jayweatherill  \n",
       "2           fracking           india_rejects            feedstock  \n",
       "3       clean_energy                    cest             coercion  \n",
       "4            nuclear                 renewal        carbonneutral  \n",
       "5          shale_gas           urgent_action            enforcing  \n",
       "6            utility  prohillary_infomercial                 fiat  \n",
       "7         wind_power        hurricane_harvey            regulator  \n",
       "8   renewable_energy                      os            cleancoal  \n",
       "9     reliable_power                    leed              weapons  "
      ]
     },
     "execution_count": 65,
     "metadata": {},
     "output_type": "execute_result"
    }
   ],
   "source": [
    "anti_words_to_lose_most_sim"
   ]
  },
  {
   "cell_type": "code",
   "execution_count": 113,
   "metadata": {},
   "outputs": [
    {
     "name": "stderr",
     "output_type": "stream",
     "text": [
      "/anaconda3/lib/python3.7/site-packages/ipykernel_launcher.py:1: DeprecationWarning: Call to deprecated `__getitem__` (Method will be removed in 4.0.0, use self.wv.__getitem__() instead).\n",
      "  \"\"\"Entry point for launching an IPython kernel.\n"
     ]
    },
    {
     "data": {
      "image/png": "[encoded data removed]",
      "text/plain": [
       "<Figure size 432x288 with 1 Axes>"
      ]
     },
     "metadata": {
      "needs_background": "light"
     },
     "output_type": "display_data"
    }
   ],
   "source": [
    "X = pro_model[sample_words]\n",
    "pca = PCA(n_components=2)\n",
    "result = pca.fit_transform(X)\n",
    "plt.scatter(result[:, 0], result[:, 1])\n",
    "words = list(sample_words)\n",
    "for i, word in enumerate(words):\n",
    "    plt.annotate(word, xy=(result[i, 0], result[i, 1]))"
   ]
  },
  {
   "cell_type": "code",
   "execution_count": 114,
   "metadata": {},
   "outputs": [
    {
     "name": "stderr",
     "output_type": "stream",
     "text": [
      "/anaconda3/lib/python3.7/site-packages/ipykernel_launcher.py:1: DeprecationWarning: Call to deprecated `__getitem__` (Method will be removed in 4.0.0, use self.wv.__getitem__() instead).\n",
      "  \"\"\"Entry point for launching an IPython kernel.\n"
     ]
    },
    {
     "data": {
      "image/png": "[encoded data removed]",
      "text/plain": [
       "<Figure size 432x288 with 1 Axes>"
      ]
     },
     "metadata": {
      "needs_background": "light"
     },
     "output_type": "display_data"
    }
   ],
   "source": [
    "X = anti_model[sample_words]\n",
    "pca = PCA(n_components=2)\n",
    "result = pca.fit_transform(X)\n",
    "plt.scatter(result[:, 0], result[:, 1])\n",
    "words = list(sample_words)\n",
    "for i, word in enumerate(words):\n",
    "    plt.annotate(word, xy=(result[i, 0], result[i, 1]))"
   ]
  },
  {
   "cell_type": "code",
   "execution_count": 75,
   "metadata": {},
   "outputs": [
    {
     "name": "stderr",
     "output_type": "stream",
     "text": [
      "/anaconda3/lib/python3.7/site-packages/ipykernel_launcher.py:1: DeprecationWarning: Call to deprecated `most_similar` (Method will be removed in 4.0.0, use self.wv.most_similar() instead).\n",
      "  \"\"\"Entry point for launching an IPython kernel.\n"
     ]
    },
    {
     "name": "stdout",
     "output_type": "stream",
     "text": [
      "[('miner', 0.7048342227935791)]\n"
     ]
    }
   ],
   "source": [
    "result = pro_model.most_similar(positive=['woman', 'king'], negative=['man'], topn=1)\n",
    "print(result)"
   ]
  },
  {
   "cell_type": "code",
   "execution_count": 76,
   "metadata": {},
   "outputs": [
    {
     "name": "stdout",
     "output_type": "stream",
     "text": [
      "[('lobbyist', 0.7046232223510742)]\n"
     ]
    },
    {
     "name": "stderr",
     "output_type": "stream",
     "text": [
      "/anaconda3/lib/python3.7/site-packages/ipykernel_launcher.py:1: DeprecationWarning: Call to deprecated `most_similar` (Method will be removed in 4.0.0, use self.wv.most_similar() instead).\n",
      "  \"\"\"Entry point for launching an IPython kernel.\n"
     ]
    }
   ],
   "source": [
    "result = anti_model.most_similar(positive=['woman', 'king'], negative=['man'], topn=1)\n",
    "print(result)"
   ]
  },
  {
   "cell_type": "code",
   "execution_count": 122,
   "metadata": {},
   "outputs": [
    {
     "name": "stderr",
     "output_type": "stream",
     "text": [
      "/anaconda3/lib/python3.7/site-packages/ipykernel_launcher.py:1: DeprecationWarning: Call to deprecated `most_similar` (Method will be removed in 4.0.0, use self.wv.most_similar() instead).\n",
      "  \"\"\"Entry point for launching an IPython kernel.\n"
     ]
    },
    {
     "data": {
      "text/plain": [
       "[('fossil_fuels', 0.7065383791923523),\n",
       " ('coal_mining', 0.6764138340950012),\n",
       " ('coal_industry', 0.6638424396514893),\n",
       " ('dirty_coal', 0.6556156873703003),\n",
       " ('coal_plant', 0.6307121515274048),\n",
       " ('coal_plants', 0.6242072582244873),\n",
       " ('coals', 0.623948335647583),\n",
       " ('fossilfuels', 0.6170202493667603),\n",
       " ('fossilfuel', 0.6135661602020264),\n",
       " ('oil', 0.5972353219985962)]"
      ]
     },
     "execution_count": 122,
     "metadata": {},
     "output_type": "execute_result"
    }
   ],
   "source": [
    "pro_model.most_similar(positive=['coal'], topn=10)"
   ]
  },
  {
   "cell_type": "code",
   "execution_count": 123,
   "metadata": {},
   "outputs": [
    {
     "name": "stderr",
     "output_type": "stream",
     "text": [
      "/anaconda3/lib/python3.7/site-packages/ipykernel_launcher.py:1: DeprecationWarning: Call to deprecated `most_similar` (Method will be removed in 4.0.0, use self.wv.most_similar() instead).\n",
      "  \"\"\"Entry point for launching an IPython kernel.\n"
     ]
    },
    {
     "data": {
      "text/plain": [
       "[('fossil_fuels', 0.5776554942131042),\n",
       " ('promise', 0.5769315958023071),\n",
       " ('coal_industry', 0.5617814064025879),\n",
       " ('reason', 0.5355154275894165),\n",
       " ('look', 0.5263153314590454),\n",
       " ('sense', 0.5076323747634888),\n",
       " ('opportunity', 0.5056185722351074),\n",
       " ('choice', 0.5020451545715332),\n",
       " ('yet', 0.4951239824295044),\n",
       " ('good_news', 0.48776859045028687)]"
      ]
     },
     "execution_count": 123,
     "metadata": {},
     "output_type": "execute_result"
    }
   ],
   "source": [
    "pro_model.most_similar(positive=['coal', 'hope'], topn=10)"
   ]
  },
  {
   "cell_type": "code",
   "execution_count": 121,
   "metadata": {},
   "outputs": [
    {
     "name": "stderr",
     "output_type": "stream",
     "text": [
      "/anaconda3/lib/python3.7/site-packages/ipykernel_launcher.py:1: DeprecationWarning: Call to deprecated `most_similar` (Method will be removed in 4.0.0, use self.wv.most_similar() instead).\n",
      "  \"\"\"Entry point for launching an IPython kernel.\n"
     ]
    },
    {
     "data": {
      "text/plain": [
       "[('oil', 0.7305176258087158),\n",
       " ('natural_gas', 0.7280934453010559),\n",
       " ('fossil_fuels', 0.7046399116516113),\n",
       " ('ff', 0.6908190250396729),\n",
       " ('fossilfuels', 0.6889893412590027),\n",
       " ('coal_plants', 0.688759446144104),\n",
       " ('fossil_fuel', 0.6872888803482056),\n",
       " ('fuel', 0.6864487528800964),\n",
       " ('fracking', 0.6854753494262695),\n",
       " ('nuclear', 0.6787407398223877)]"
      ]
     },
     "execution_count": 121,
     "metadata": {},
     "output_type": "execute_result"
    }
   ],
   "source": [
    "anti_model.most_similar('coal', topn=10)"
   ]
  },
  {
   "cell_type": "code",
   "execution_count": 124,
   "metadata": {},
   "outputs": [
    {
     "name": "stderr",
     "output_type": "stream",
     "text": [
      "/anaconda3/lib/python3.7/site-packages/ipykernel_launcher.py:1: DeprecationWarning: Call to deprecated `most_similar` (Method will be removed in 4.0.0, use self.wv.most_similar() instead).\n",
      "  \"\"\"Entry point for launching an IPython kernel.\n"
     ]
    },
    {
     "data": {
      "text/plain": [
       "[('nuclear_energy', 0.6830844879150391),\n",
       " ('phaseout_coal', 0.6390093564987183),\n",
       " ('vote', 0.6236467361450195),\n",
       " ('beer', 0.6173661947250366),\n",
       " ('profit', 0.615615725517273),\n",
       " ('coal_industry', 0.6087899208068848),\n",
       " ('promise', 0.6082859635353088),\n",
       " ('pay', 0.6055479645729065),\n",
       " ('fuel', 0.6038081049919128),\n",
       " ('worry', 0.601457953453064)]"
      ]
     },
     "execution_count": 124,
     "metadata": {},
     "output_type": "execute_result"
    }
   ],
   "source": [
    "anti_model.most_similar(positive=['coal','hope'], topn=10)"
   ]
  },
  {
   "cell_type": "code",
   "execution_count": 125,
   "metadata": {},
   "outputs": [
    {
     "data": {
      "text/plain": [
       "[('natural_gas', 0.8654290437698364),\n",
       " ('fossilfuels', 0.8353412747383118),\n",
       " ('nuclear', 0.8202996253967285),\n",
       " ('ff', 0.8188310265541077),\n",
       " ('fossilfuel', 0.8092852234840393),\n",
       " ('nuclear_power', 0.8080373406410217),\n",
       " ('fuel', 0.8063153028488159),\n",
       " ('windsolar', 0.8028334379196167),\n",
       " ('nuclear_energy', 0.7971630692481995),\n",
       " ('nukes', 0.7964405417442322)]"
      ]
     },
     "execution_count": 125,
     "metadata": {},
     "output_type": "execute_result"
    }
   ],
   "source": [
    "anti_model.wv.most_similar(positive=['coal','cheap'], topn=10)"
   ]
  },
  {
   "cell_type": "code",
   "execution_count": 126,
   "metadata": {},
   "outputs": [
    {
     "data": {
      "text/plain": [
       "[('nuclear', 0.7922664880752563),\n",
       " ('biomass', 0.7861006259918213),\n",
       " ('natural_gas', 0.7763239145278931),\n",
       " ('fossil_fuels', 0.7553817629814148),\n",
       " ('nuclear_power', 0.7429813146591187),\n",
       " ('shale_gas', 0.7376532554626465),\n",
       " ('dirty', 0.7332494258880615),\n",
       " ('ccs', 0.7174371480941772),\n",
       " ('fossil', 0.7138166427612305),\n",
       " ('gas', 0.7120705842971802)]"
      ]
     },
     "execution_count": 126,
     "metadata": {},
     "output_type": "execute_result"
    }
   ],
   "source": [
    "pro_model.wv.most_similar(positive=['coal','cheap'], topn=10)"
   ]
  },
  {
   "cell_type": "code",
   "execution_count": 89,
   "metadata": {},
   "outputs": [
    {
     "data": {
      "text/plain": [
       "[('parents', 0.48043161630630493),\n",
       " ('hands', 0.4672631025314331),\n",
       " ('behaviour', 0.454215943813324),\n",
       " ('daughter', 0.45209741592407227),\n",
       " ('privilege', 0.4477013349533081),\n",
       " ('lifestyle', 0.43967264890670776),\n",
       " ('lifestyles', 0.4282594323158264),\n",
       " ('pocket', 0.42692428827285767),\n",
       " ('curriculum', 0.4256109595298767),\n",
       " ('neighbours', 0.4220893979072571)]"
      ]
     },
     "execution_count": 89,
     "metadata": {},
     "output_type": "execute_result"
    }
   ],
   "source": [
    "anti_model.wv.most_similar(positive=['climate','family'],negative=['change'], topn=10)"
   ]
  },
  {
   "cell_type": "code",
   "execution_count": 117,
   "metadata": {},
   "outputs": [
    {
     "data": {
      "text/plain": [
       "[('power', 0.7647301554679871),\n",
       " ('electricity', 0.7348791360855103),\n",
       " ('reliable_energy', 0.6761070489883423),\n",
       " ('energy_sources', 0.6662227511405945),\n",
       " ('renewable_energy', 0.6639899015426636),\n",
       " ('fuel', 0.6469264030456543),\n",
       " ('power_generation', 0.6461412906646729),\n",
       " ('renewable', 0.6444040536880493),\n",
       " ('clean_energy', 0.6424155235290527),\n",
       " ('energy_storage', 0.6418946385383606)]"
      ]
     },
     "execution_count": 117,
     "metadata": {},
     "output_type": "execute_result"
    }
   ],
   "source": [
    "anti_model.wv.most_similar('energy', topn=10)"
   ]
  },
  {
   "cell_type": "code",
   "execution_count": 118,
   "metadata": {},
   "outputs": [
    {
     "data": {
      "text/plain": [
       "[('energy_efficiency', 0.6508606672286987),\n",
       " ('tech', 0.6340892314910889),\n",
       " ('renewable_energy', 0.6276476383209229),\n",
       " ('energy_storage', 0.6269545555114746),\n",
       " ('clean_energy', 0.6061845421791077),\n",
       " ('renewable', 0.5817904472351074),\n",
       " ('electricity', 0.5738480687141418),\n",
       " ('renewables', 0.5698857307434082),\n",
       " ('cleanenergy', 0.5629690885543823),\n",
       " ('power', 0.5605878233909607)]"
      ]
     },
     "execution_count": 118,
     "metadata": {},
     "output_type": "execute_result"
    }
   ],
   "source": [
    "pro_model.wv.most_similar('energy', topn=10)"
   ]
  },
  {
   "cell_type": "code",
   "execution_count": 116,
   "metadata": {
    "scrolled": true
   },
   "outputs": [
    {
     "data": {
      "text/plain": [
       "[('globalwarming', 0.7890834808349609),\n",
       " ('climate_change', 0.5507867336273193),\n",
       " ('warming', 0.5434492826461792),\n",
       " ('bad_weather', 0.5048491358757019),\n",
       " ('global_warmings', 0.502597451210022),\n",
       " ('cagw', 0.49475961923599243),\n",
       " ('gw', 0.4936589002609253),\n",
       " ('drought', 0.4905879497528076),\n",
       " ('trace_co2', 0.44159752130508423),\n",
       " ('agw', 0.4399073123931885)]"
      ]
     },
     "execution_count": 116,
     "metadata": {},
     "output_type": "execute_result"
    }
   ],
   "source": [
    "anti_model.wv.most_similar('global_warming', topn=10)"
   ]
  },
  {
   "cell_type": "code",
   "execution_count": 110,
   "metadata": {},
   "outputs": [
    {
     "data": {
      "text/plain": [
       "[('globalwarming', 0.794216513633728),\n",
       " ('warming', 0.7078213691711426),\n",
       " ('temperature_rise', 0.5974289178848267),\n",
       " ('change', 0.5521550178527832),\n",
       " ('global_heating', 0.5516682267189026),\n",
       " ('warming_trend', 0.5491881370544434),\n",
       " ('human_activity', 0.5383133888244629),\n",
       " ('sea_level', 0.5359028577804565),\n",
       " ('extreme_weather', 0.5234129428863525),\n",
       " ('sandy', 0.5195635557174683)]"
      ]
     },
     "execution_count": 110,
     "metadata": {},
     "output_type": "execute_result"
    }
   ],
   "source": [
    "pro_model.wv.most_similar('global_warming', topn=10)"
   ]
  },
  {
   "cell_type": "markdown",
   "metadata": {},
   "source": [
    "# Find similarity b/w shared lemmas, examine most and least similar"
   ]
  },
  {
   "cell_type": "code",
   "execution_count": 96,
   "metadata": {},
   "outputs": [],
   "source": [
    "wv_overlap = set(pro_model.wv.vocab) | set(anti_model.wv.vocab)"
   ]
  },
  {
   "cell_type": "code",
   "execution_count": 97,
   "metadata": {},
   "outputs": [
    {
     "data": {
      "text/plain": [
       "38404"
      ]
     },
     "execution_count": 97,
     "metadata": {},
     "output_type": "execute_result"
    }
   ],
   "source": [
    "len(wv_overlap)"
   ]
  },
  {
   "cell_type": "code",
   "execution_count": null,
   "metadata": {},
   "outputs": [],
   "source": [
    "similarities_shared_vocab = "
   ]
  }
 ],
 "metadata": {
  "kernelspec": {
   "display_name": "Python 3",
   "language": "python",
   "name": "python3"
  },
  "language_info": {
   "codemirror_mode": {
    "name": "ipython",
    "version": 3
   },
   "file_extension": ".py",
   "mimetype": "text/x-python",
   "name": "python",
   "nbconvert_exporter": "python",
   "pygments_lexer": "ipython3",
   "version": "3.7.1"
  }
 },
 "nbformat": 4,
 "nbformat_minor": 2
}
