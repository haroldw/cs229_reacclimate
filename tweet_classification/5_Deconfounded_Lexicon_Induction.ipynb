{
 "cells": [
  {
   "cell_type": "code",
   "execution_count": 1,
   "metadata": {},
   "outputs": [
    {
     "name": "stderr",
     "output_type": "stream",
     "text": [
      "Using TensorFlow backend.\n"
     ]
    }
   ],
   "source": [
    "import pickle\n",
    "import numpy as np\n",
    "import pandas as pd\n",
    "from keras import Sequential, backend, regularizers\n",
    "from keras.layers import Embedding, LSTM, Dense, Dropout, Flatten, Conv1D, MaxPooling1D\n",
    "from keras.preprocessing import sequence\n",
    "from keras.preprocessing.text import Tokenizer\n",
    "from keras.preprocessing.sequence import pad_sequences\n",
    "import keras.backend\n",
    "import os"
   ]
  },
  {
   "cell_type": "code",
   "execution_count": 2,
   "metadata": {},
   "outputs": [],
   "source": [
    "pd.options.display.max_rows = 999\n",
    "pd.options.display.max_columns = 999"
   ]
  },
  {
   "cell_type": "markdown",
   "metadata": {},
   "source": [
    "# Load tweet data"
   ]
  },
  {
   "cell_type": "code",
   "execution_count": 3,
   "metadata": {},
   "outputs": [],
   "source": [
    "# Functions for importing & cleaning relevant tweets\n",
    "def lower(s):\n",
    "    return s.lower()\n",
    "\n",
    "def tweet_imports(filename):\n",
    "    imp = pd.read_pickle(filename)\n",
    "    imp = imp.drop_duplicates()\n",
    "    imp['tweet_clean'] = imp['tweet'].str.replace('http\\S+|www.\\S+|pic.twitter.com\\S+', '', case=False)\n",
    "    imp['tweet_clean'] =imp['tweet_clean'].replace('[^A-Za-z0-9 ]+','',regex=True)\n",
    "    imp['tweet_clean'] = imp['tweet_clean'].apply(lower)#map(lambda x: x.lower(), imp['tweet_clean'])\n",
    "    imp['date'] = pd.to_datetime(imp['date'])\n",
    "    return imp"
   ]
  },
  {
   "cell_type": "code",
   "execution_count": 8,
   "metadata": {},
   "outputs": [],
   "source": [
    "cleaned_affirm_tweets = tweet_imports('all_affirm_tweets.pkl')\n",
    "cleaned_deny_tweets = tweet_imports('all_deny_tweets.pkl')"
   ]
  },
  {
   "cell_type": "code",
   "execution_count": 5,
   "metadata": {
    "scrolled": true
   },
   "outputs": [
    {
     "data": {
      "text/html": [
       "<div>\n",
       "<style scoped>\n",
       "    .dataframe tbody tr th:only-of-type {\n",
       "        vertical-align: middle;\n",
       "    }\n",
       "\n",
       "    .dataframe tbody tr th {\n",
       "        vertical-align: top;\n",
       "    }\n",
       "\n",
       "    .dataframe thead th {\n",
       "        text-align: right;\n",
       "    }\n",
       "</style>\n",
       "<table border=\"1\" class=\"dataframe\">\n",
       "  <thead>\n",
       "    <tr style=\"text-align: right;\">\n",
       "      <th></th>\n",
       "      <th>id</th>\n",
       "      <th>date</th>\n",
       "      <th>time</th>\n",
       "      <th>tweet</th>\n",
       "      <th>mentions</th>\n",
       "      <th>replies_count</th>\n",
       "      <th>retweets_count</th>\n",
       "      <th>likes_count</th>\n",
       "      <th>hashtags</th>\n",
       "      <th>username</th>\n",
       "      <th>search_term</th>\n",
       "      <th>label</th>\n",
       "      <th>tweet_clean</th>\n",
       "    </tr>\n",
       "  </thead>\n",
       "  <tbody>\n",
       "    <tr>\n",
       "      <td>0</td>\n",
       "      <td>1173949629337133057</td>\n",
       "      <td>2019-09-17</td>\n",
       "      <td>06:19:37</td>\n",
       "      <td>Well...lots of protests at pipeline sites. Thi...</td>\n",
       "      <td>['chrisraab3', 'yasminrjhenry']</td>\n",
       "      <td>1</td>\n",
       "      <td>0</td>\n",
       "      <td>0</td>\n",
       "      <td>[]</td>\n",
       "      <td>abarnardnyt</td>\n",
       "      <td>sea</td>\n",
       "      <td>1</td>\n",
       "      <td>welllots of protests at pipeline sites this on...</td>\n",
       "    </tr>\n",
       "    <tr>\n",
       "      <td>1</td>\n",
       "      <td>1172850391765135360</td>\n",
       "      <td>2019-09-14</td>\n",
       "      <td>05:31:38</td>\n",
       "      <td>Think sea worms or sea bugs, not sea monsters ...</td>\n",
       "      <td>['publicoutcrysy']</td>\n",
       "      <td>1</td>\n",
       "      <td>0</td>\n",
       "      <td>0</td>\n",
       "      <td>[]</td>\n",
       "      <td>abarnardnyt</td>\n",
       "      <td>sea</td>\n",
       "      <td>1</td>\n",
       "      <td>think sea worms or sea bugs not sea monsters  ...</td>\n",
       "    </tr>\n",
       "    <tr>\n",
       "      <td>2</td>\n",
       "      <td>1172631555577135109</td>\n",
       "      <td>2019-09-13</td>\n",
       "      <td>15:02:03</td>\n",
       "      <td>The water in NYC is so much cleaner these days...</td>\n",
       "      <td>[]</td>\n",
       "      <td>3</td>\n",
       "      <td>0</td>\n",
       "      <td>10</td>\n",
       "      <td>[]</td>\n",
       "      <td>abarnardnyt</td>\n",
       "      <td>sea</td>\n",
       "      <td>1</td>\n",
       "      <td>the water in nyc is so much cleaner these days...</td>\n",
       "    </tr>\n",
       "    <tr>\n",
       "      <td>3</td>\n",
       "      <td>1167944666274246656</td>\n",
       "      <td>2019-08-31</td>\n",
       "      <td>16:38:02</td>\n",
       "      <td>Working for Les Gelb was also fun. He was in h...</td>\n",
       "      <td>[]</td>\n",
       "      <td>1</td>\n",
       "      <td>1</td>\n",
       "      <td>8</td>\n",
       "      <td>[]</td>\n",
       "      <td>abarnardnyt</td>\n",
       "      <td>sea</td>\n",
       "      <td>1</td>\n",
       "      <td>working for les gelb was also fun he was in hi...</td>\n",
       "    </tr>\n",
       "    <tr>\n",
       "      <td>4</td>\n",
       "      <td>1167475090411413504</td>\n",
       "      <td>2019-08-30</td>\n",
       "      <td>09:32:06</td>\n",
       "      <td>Some New York Dems seem irked by rumored choic...</td>\n",
       "      <td>[]</td>\n",
       "      <td>0</td>\n",
       "      <td>1</td>\n",
       "      <td>0</td>\n",
       "      <td>['#climate']</td>\n",
       "      <td>abarnardnyt</td>\n",
       "      <td>sea</td>\n",
       "      <td>1</td>\n",
       "      <td>some new york dems seem irked by rumored choic...</td>\n",
       "    </tr>\n",
       "  </tbody>\n",
       "</table>\n",
       "</div>"
      ],
      "text/plain": [
       "                    id       date      time  \\\n",
       "0  1173949629337133057 2019-09-17  06:19:37   \n",
       "1  1172850391765135360 2019-09-14  05:31:38   \n",
       "2  1172631555577135109 2019-09-13  15:02:03   \n",
       "3  1167944666274246656 2019-08-31  16:38:02   \n",
       "4  1167475090411413504 2019-08-30  09:32:06   \n",
       "\n",
       "                                               tweet  \\\n",
       "0  Well...lots of protests at pipeline sites. Thi...   \n",
       "1  Think sea worms or sea bugs, not sea monsters ...   \n",
       "2  The water in NYC is so much cleaner these days...   \n",
       "3  Working for Les Gelb was also fun. He was in h...   \n",
       "4  Some New York Dems seem irked by rumored choic...   \n",
       "\n",
       "                          mentions  replies_count  retweets_count  \\\n",
       "0  ['chrisraab3', 'yasminrjhenry']              1               0   \n",
       "1               ['publicoutcrysy']              1               0   \n",
       "2                               []              3               0   \n",
       "3                               []              1               1   \n",
       "4                               []              0               1   \n",
       "\n",
       "   likes_count      hashtags     username search_term  label  \\\n",
       "0            0            []  abarnardnyt         sea      1   \n",
       "1            0            []  abarnardnyt         sea      1   \n",
       "2           10            []  abarnardnyt         sea      1   \n",
       "3            8            []  abarnardnyt         sea      1   \n",
       "4            0  ['#climate']  abarnardnyt         sea      1   \n",
       "\n",
       "                                         tweet_clean  \n",
       "0  welllots of protests at pipeline sites this on...  \n",
       "1  think sea worms or sea bugs not sea monsters  ...  \n",
       "2  the water in nyc is so much cleaner these days...  \n",
       "3  working for les gelb was also fun he was in hi...  \n",
       "4  some new york dems seem irked by rumored choic...  "
      ]
     },
     "execution_count": 5,
     "metadata": {},
     "output_type": "execute_result"
    }
   ],
   "source": [
    "cleaned_affirm_tweets.head()"
   ]
  },
  {
   "cell_type": "code",
   "execution_count": 9,
   "metadata": {},
   "outputs": [
    {
     "data": {
      "text/plain": [
       "230802"
      ]
     },
     "execution_count": 9,
     "metadata": {},
     "output_type": "execute_result"
    }
   ],
   "source": [
    "len(cleaned_affirm_tweets)"
   ]
  },
  {
   "cell_type": "code",
   "execution_count": 10,
   "metadata": {},
   "outputs": [
    {
     "data": {
      "text/plain": [
       "290084"
      ]
     },
     "execution_count": 10,
     "metadata": {},
     "output_type": "execute_result"
    }
   ],
   "source": [
    "len(cleaned_deny_tweets)"
   ]
  },
  {
   "cell_type": "code",
   "execution_count": 14,
   "metadata": {},
   "outputs": [],
   "source": [
    "import csv\n",
    "with open('generated.tsv','w') as f:\n",
    "    csvwriter = csv.writer(f,delimiter='\\t')\n",
    "    for ix in range(100):#len(cleaned_deny_tweets)):\n",
    "        df_row = cleaned_deny_tweets.iloc[ix]\n",
    "        csvwriter.writerow([df_row['tweet_clean'],float(df_row['likes_count']),\n",
    "                                  float(df_row['retweets_count']),float(df_row['replies_count']),\n",
    "                            df_row['username']])\n",
    "    for ix in range(100):#len(cleaned_deny_tweets)):\n",
    "        df_row = cleaned_deny_tweets.iloc[-ix]\n",
    "        csvwriter.writerow([df_row['tweet_clean'],float(df_row['likes_count']),\n",
    "                                  float(df_row['retweets_count']),float(df_row['replies_count']),\n",
    "                            df_row['username']])"
   ]
  },
  {
   "cell_type": "code",
   "execution_count": null,
   "metadata": {},
   "outputs": [],
   "source": []
  }
 ],
 "metadata": {
  "kernelspec": {
   "display_name": "Python 3",
   "language": "python",
   "name": "python3"
  },
  "language_info": {
   "codemirror_mode": {
    "name": "ipython",
    "version": 3
   },
   "file_extension": ".py",
   "mimetype": "text/x-python",
   "name": "python",
   "nbconvert_exporter": "python",
   "pygments_lexer": "ipython3",
   "version": "3.7.1"
  }
 },
 "nbformat": 4,
 "nbformat_minor": 2
}
