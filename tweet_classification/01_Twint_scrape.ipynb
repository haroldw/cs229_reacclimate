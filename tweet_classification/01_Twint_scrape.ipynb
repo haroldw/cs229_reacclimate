{
 "cells": [
  {
   "cell_type": "markdown",
   "metadata": {},
   "source": [
    "Documentation: https://pypi.org/project/twint/"
   ]
  },
  {
   "cell_type": "code",
   "execution_count": 5,
   "metadata": {},
   "outputs": [],
   "source": [
    "import pandas as pd\n",
    "import numpy as np\n",
    "import csv"
   ]
  },
  {
   "cell_type": "code",
   "execution_count": 7,
   "metadata": {},
   "outputs": [],
   "source": [
    "# Read in 100 users per side\n",
    "influential_csv = pd.read_csv('influential_tweeters.csv')"
   ]
  },
  {
   "cell_type": "code",
   "execution_count": 8,
   "metadata": {},
   "outputs": [
    {
     "data": {
      "text/html": [
       "<div>\n",
       "<style scoped>\n",
       "    .dataframe tbody tr th:only-of-type {\n",
       "        vertical-align: middle;\n",
       "    }\n",
       "\n",
       "    .dataframe tbody tr th {\n",
       "        vertical-align: top;\n",
       "    }\n",
       "\n",
       "    .dataframe thead th {\n",
       "        text-align: right;\n",
       "    }\n",
       "</style>\n",
       "<table border=\"1\" class=\"dataframe\">\n",
       "  <thead>\n",
       "    <tr style=\"text-align: right;\">\n",
       "      <th></th>\n",
       "      <th>affirming</th>\n",
       "      <th>denying</th>\n",
       "    </tr>\n",
       "  </thead>\n",
       "  <tbody>\n",
       "    <tr>\n",
       "      <td>0</td>\n",
       "      <td>algore</td>\n",
       "      <td>skepticscience</td>\n",
       "    </tr>\n",
       "    <tr>\n",
       "      <td>1</td>\n",
       "      <td>oxfamgb</td>\n",
       "      <td>ScienceNotDogma</td>\n",
       "    </tr>\n",
       "    <tr>\n",
       "      <td>2</td>\n",
       "      <td>globalactplan</td>\n",
       "      <td>Carbongate</td>\n",
       "    </tr>\n",
       "    <tr>\n",
       "      <td>3</td>\n",
       "      <td>GreenpeaceUK</td>\n",
       "      <td>Neets2245</td>\n",
       "    </tr>\n",
       "    <tr>\n",
       "      <td>4</td>\n",
       "      <td>WWF_Climate</td>\n",
       "      <td>Co2Green</td>\n",
       "    </tr>\n",
       "    <tr>\n",
       "      <td>5</td>\n",
       "      <td>OneClimate</td>\n",
       "      <td>thegwpfcom</td>\n",
       "    </tr>\n",
       "    <tr>\n",
       "      <td>6</td>\n",
       "      <td>Ed_Miliband</td>\n",
       "      <td>CO2Coalition</td>\n",
       "    </tr>\n",
       "    <tr>\n",
       "      <td>7</td>\n",
       "      <td>CarolineLucas</td>\n",
       "      <td>Action4Life_</td>\n",
       "    </tr>\n",
       "    <tr>\n",
       "      <td>8</td>\n",
       "      <td>DECCgovuk</td>\n",
       "      <td>fredpalmercoal</td>\n",
       "    </tr>\n",
       "    <tr>\n",
       "      <td>9</td>\n",
       "      <td>the_ecologist</td>\n",
       "      <td>NoTricksZone</td>\n",
       "    </tr>\n",
       "  </tbody>\n",
       "</table>\n",
       "</div>"
      ],
      "text/plain": [
       "       affirming          denying\n",
       "0         algore   skepticscience\n",
       "1        oxfamgb  ScienceNotDogma\n",
       "2  globalactplan       Carbongate\n",
       "3   GreenpeaceUK        Neets2245\n",
       "4    WWF_Climate         Co2Green\n",
       "5     OneClimate       thegwpfcom\n",
       "6    Ed_Miliband     CO2Coalition\n",
       "7  CarolineLucas     Action4Life_\n",
       "8      DECCgovuk   fredpalmercoal\n",
       "9  the_ecologist     NoTricksZone"
      ]
     },
     "execution_count": 8,
     "metadata": {},
     "output_type": "execute_result"
    }
   ],
   "source": [
    "influential_csv.head(10)"
   ]
  },
  {
   "cell_type": "code",
   "execution_count": 10,
   "metadata": {},
   "outputs": [
    {
     "data": {
      "text/plain": [
       "'DarrinW74512672'"
      ]
     },
     "execution_count": 10,
     "metadata": {},
     "output_type": "execute_result"
    }
   ],
   "source": [
    "influential_csv['denying'].iloc[-1]"
   ]
  },
  {
   "cell_type": "markdown",
   "metadata": {},
   "source": [
    "Scrape these users' tweets using Twint:"
   ]
  },
  {
   "cell_type": "code",
   "execution_count": 1,
   "metadata": {},
   "outputs": [],
   "source": [
    "import twint"
   ]
  },
  {
   "cell_type": "code",
   "execution_count": 333,
   "metadata": {},
   "outputs": [],
   "source": [
    "c = twint.Config()\n",
    "c.Show_hashtags = True\n",
    "c.Count = True\n",
    "c.Stats = True\n",
    "c.Store_csv = True\n",
    "c.Retweets = False\n",
    "c.Custom[\"tweet\"] = [\"id\", \"date\", \"time\", \"tweet\", \"mentions\", \"replies_count\", \"retweets_count\", \n",
    "                     \"likes_count\", \"hashtags\", \"username\"]\n",
    "c.Format = \"ID {id} -||- Date {date} -||- Time {time} -||- Tweet {tweet} -||- Mentions {mentions} -||- \\\n",
    "Repliescount {replies_count} \\\n",
    "-||- Retweetscount {retweets_count} -||- Likescount {likes_count} -||- Hashtags {hashtags} -||- Username {username}\"\n",
    "sep = \" -||- \""
   ]
  },
  {
   "cell_type": "code",
   "execution_count": 334,
   "metadata": {},
   "outputs": [
    {
     "name": "stdout",
     "output_type": "stream",
     "text": [
      "First affirming user: skepticscience\n"
     ]
    }
   ],
   "source": [
    "curr_affirm = influential_csv['denying'].iloc[0]\n",
    "print('First affirming user:',curr_affirm)\n",
    "c.Username = curr_affirm"
   ]
  },
  {
   "cell_type": "code",
   "execution_count": 335,
   "metadata": {},
   "outputs": [],
   "source": [
    "SEARCH_TERMS = [\"global warming\",\"climate change\",\"sea\",\"ice\",\"melt\",\"co2\",\"methane\",\"greenhouse\",\"carbon\",\n",
    "               \"emission\",\"anthropogenic\",\"temperature\",\"warming\",\"climate\",\"coal\",\"IPCC\",\"environment\",\n",
    "               \"environmental\",\"cap and trade\",'energy','planet','renewable','fossil fuel','environmentalist']\n",
    "# TO DO: expand search_terms w/ some of Zach's terms"
   ]
  },
  {
   "cell_type": "code",
   "execution_count": 336,
   "metadata": {},
   "outputs": [
    {
     "data": {
      "text/plain": [
       "'skepticscience'"
      ]
     },
     "execution_count": 336,
     "metadata": {},
     "output_type": "execute_result"
    }
   ],
   "source": [
    "c.Username"
   ]
  },
  {
   "cell_type": "code",
   "execution_count": 374,
   "metadata": {
    "scrolled": true
   },
   "outputs": [
    {
     "name": "stdout",
     "output_type": "stream",
     "text": [
      "Getting tweets with keyword: environmentalist\n"
     ]
    },
    {
     "ename": "RuntimeError",
     "evalue": "This event loop is already running",
     "output_type": "error",
     "traceback": [
      "\u001b[0;31m---------------------------------------------------------------------------\u001b[0m",
      "\u001b[0;31mRuntimeError\u001b[0m                              Traceback (most recent call last)",
      "\u001b[0;32m<ipython-input-374-0bd7a61362ee>\u001b[0m in \u001b[0;36m<module>\u001b[0;34m\u001b[0m\n\u001b[1;32m      6\u001b[0m     \u001b[0;31m#c.Store_object = True\u001b[0m\u001b[0;34m\u001b[0m\u001b[0;34m\u001b[0m\u001b[0;34m\u001b[0m\u001b[0m\n\u001b[1;32m      7\u001b[0m     \u001b[0mc\u001b[0m\u001b[0;34m.\u001b[0m\u001b[0mOutput\u001b[0m \u001b[0;34m=\u001b[0m \u001b[0;34m'{}_search-term={}.csv'\u001b[0m\u001b[0;34m.\u001b[0m\u001b[0mformat\u001b[0m\u001b[0;34m(\u001b[0m\u001b[0mc\u001b[0m\u001b[0;34m.\u001b[0m\u001b[0mUsername\u001b[0m\u001b[0;34m,\u001b[0m\u001b[0mc\u001b[0m\u001b[0;34m.\u001b[0m\u001b[0mSearch\u001b[0m\u001b[0;34m)\u001b[0m\u001b[0;34m\u001b[0m\u001b[0;34m\u001b[0m\u001b[0m\n\u001b[0;32m----> 8\u001b[0;31m     \u001b[0mtwint\u001b[0m\u001b[0;34m.\u001b[0m\u001b[0mrun\u001b[0m\u001b[0;34m.\u001b[0m\u001b[0mSearch\u001b[0m\u001b[0;34m(\u001b[0m\u001b[0mc\u001b[0m\u001b[0;34m)\u001b[0m\u001b[0;34m\u001b[0m\u001b[0;34m\u001b[0m\u001b[0m\n\u001b[0m",
      "\u001b[0;32m/anaconda3/lib/python3.7/site-packages/twint/run.py\u001b[0m in \u001b[0;36mSearch\u001b[0;34m(config, callback)\u001b[0m\n\u001b[1;32m    290\u001b[0m     \u001b[0mconfig\u001b[0m\u001b[0;34m.\u001b[0m\u001b[0mProfile\u001b[0m \u001b[0;34m=\u001b[0m \u001b[0;32mFalse\u001b[0m\u001b[0;34m\u001b[0m\u001b[0;34m\u001b[0m\u001b[0m\n\u001b[1;32m    291\u001b[0m     \u001b[0mconfig\u001b[0m\u001b[0;34m.\u001b[0m\u001b[0mProfile_full\u001b[0m \u001b[0;34m=\u001b[0m \u001b[0;32mFalse\u001b[0m\u001b[0;34m\u001b[0m\u001b[0;34m\u001b[0m\u001b[0m\n\u001b[0;32m--> 292\u001b[0;31m     \u001b[0mrun\u001b[0m\u001b[0;34m(\u001b[0m\u001b[0mconfig\u001b[0m\u001b[0;34m,\u001b[0m \u001b[0mcallback\u001b[0m\u001b[0;34m)\u001b[0m\u001b[0;34m\u001b[0m\u001b[0;34m\u001b[0m\u001b[0m\n\u001b[0m\u001b[1;32m    293\u001b[0m     \u001b[0;32mif\u001b[0m \u001b[0mconfig\u001b[0m\u001b[0;34m.\u001b[0m\u001b[0mPandas_au\u001b[0m\u001b[0;34m:\u001b[0m\u001b[0;34m\u001b[0m\u001b[0;34m\u001b[0m\u001b[0m\n\u001b[1;32m    294\u001b[0m         \u001b[0mstorage\u001b[0m\u001b[0;34m.\u001b[0m\u001b[0mpanda\u001b[0m\u001b[0;34m.\u001b[0m\u001b[0m_autoget\u001b[0m\u001b[0;34m(\u001b[0m\u001b[0;34m\"tweet\"\u001b[0m\u001b[0;34m)\u001b[0m\u001b[0;34m\u001b[0m\u001b[0;34m\u001b[0m\u001b[0m\n",
      "\u001b[0;32m/anaconda3/lib/python3.7/site-packages/twint/run.py\u001b[0m in \u001b[0;36mrun\u001b[0;34m(config, callback)\u001b[0m\n\u001b[1;32m    211\u001b[0m \u001b[0;32mdef\u001b[0m \u001b[0mrun\u001b[0m\u001b[0;34m(\u001b[0m\u001b[0mconfig\u001b[0m\u001b[0;34m,\u001b[0m \u001b[0mcallback\u001b[0m\u001b[0;34m=\u001b[0m\u001b[0;32mNone\u001b[0m\u001b[0;34m)\u001b[0m\u001b[0;34m:\u001b[0m\u001b[0;34m\u001b[0m\u001b[0;34m\u001b[0m\u001b[0m\n\u001b[1;32m    212\u001b[0m     \u001b[0mlogme\u001b[0m\u001b[0;34m.\u001b[0m\u001b[0mdebug\u001b[0m\u001b[0;34m(\u001b[0m\u001b[0m__name__\u001b[0m\u001b[0;34m+\u001b[0m\u001b[0;34m':run'\u001b[0m\u001b[0;34m)\u001b[0m\u001b[0;34m\u001b[0m\u001b[0;34m\u001b[0m\u001b[0m\n\u001b[0;32m--> 213\u001b[0;31m     \u001b[0mget_event_loop\u001b[0m\u001b[0;34m(\u001b[0m\u001b[0;34m)\u001b[0m\u001b[0;34m.\u001b[0m\u001b[0mrun_until_complete\u001b[0m\u001b[0;34m(\u001b[0m\u001b[0mTwint\u001b[0m\u001b[0;34m(\u001b[0m\u001b[0mconfig\u001b[0m\u001b[0;34m)\u001b[0m\u001b[0;34m.\u001b[0m\u001b[0mmain\u001b[0m\u001b[0;34m(\u001b[0m\u001b[0mcallback\u001b[0m\u001b[0;34m)\u001b[0m\u001b[0;34m)\u001b[0m\u001b[0;34m\u001b[0m\u001b[0;34m\u001b[0m\u001b[0m\n\u001b[0m\u001b[1;32m    214\u001b[0m \u001b[0;34m\u001b[0m\u001b[0m\n\u001b[1;32m    215\u001b[0m \u001b[0;32mdef\u001b[0m \u001b[0mFavorites\u001b[0m\u001b[0;34m(\u001b[0m\u001b[0mconfig\u001b[0m\u001b[0;34m)\u001b[0m\u001b[0;34m:\u001b[0m\u001b[0;34m\u001b[0m\u001b[0;34m\u001b[0m\u001b[0m\n",
      "\u001b[0;32m/anaconda3/lib/python3.7/asyncio/base_events.py\u001b[0m in \u001b[0;36mrun_until_complete\u001b[0;34m(self, future)\u001b[0m\n\u001b[1;32m    558\u001b[0m         \u001b[0mfuture\u001b[0m\u001b[0;34m.\u001b[0m\u001b[0madd_done_callback\u001b[0m\u001b[0;34m(\u001b[0m\u001b[0m_run_until_complete_cb\u001b[0m\u001b[0;34m)\u001b[0m\u001b[0;34m\u001b[0m\u001b[0;34m\u001b[0m\u001b[0m\n\u001b[1;32m    559\u001b[0m         \u001b[0;32mtry\u001b[0m\u001b[0;34m:\u001b[0m\u001b[0;34m\u001b[0m\u001b[0;34m\u001b[0m\u001b[0m\n\u001b[0;32m--> 560\u001b[0;31m             \u001b[0mself\u001b[0m\u001b[0;34m.\u001b[0m\u001b[0mrun_forever\u001b[0m\u001b[0;34m(\u001b[0m\u001b[0;34m)\u001b[0m\u001b[0;34m\u001b[0m\u001b[0;34m\u001b[0m\u001b[0m\n\u001b[0m\u001b[1;32m    561\u001b[0m         \u001b[0;32mexcept\u001b[0m\u001b[0;34m:\u001b[0m\u001b[0;34m\u001b[0m\u001b[0;34m\u001b[0m\u001b[0m\n\u001b[1;32m    562\u001b[0m             \u001b[0;32mif\u001b[0m \u001b[0mnew_task\u001b[0m \u001b[0;32mand\u001b[0m \u001b[0mfuture\u001b[0m\u001b[0;34m.\u001b[0m\u001b[0mdone\u001b[0m\u001b[0;34m(\u001b[0m\u001b[0;34m)\u001b[0m \u001b[0;32mand\u001b[0m \u001b[0;32mnot\u001b[0m \u001b[0mfuture\u001b[0m\u001b[0;34m.\u001b[0m\u001b[0mcancelled\u001b[0m\u001b[0;34m(\u001b[0m\u001b[0;34m)\u001b[0m\u001b[0;34m:\u001b[0m\u001b[0;34m\u001b[0m\u001b[0;34m\u001b[0m\u001b[0m\n",
      "\u001b[0;32m/anaconda3/lib/python3.7/asyncio/base_events.py\u001b[0m in \u001b[0;36mrun_forever\u001b[0;34m(self)\u001b[0m\n\u001b[1;32m    513\u001b[0m         \u001b[0mself\u001b[0m\u001b[0;34m.\u001b[0m\u001b[0m_check_closed\u001b[0m\u001b[0;34m(\u001b[0m\u001b[0;34m)\u001b[0m\u001b[0;34m\u001b[0m\u001b[0;34m\u001b[0m\u001b[0m\n\u001b[1;32m    514\u001b[0m         \u001b[0;32mif\u001b[0m \u001b[0mself\u001b[0m\u001b[0;34m.\u001b[0m\u001b[0mis_running\u001b[0m\u001b[0;34m(\u001b[0m\u001b[0;34m)\u001b[0m\u001b[0;34m:\u001b[0m\u001b[0;34m\u001b[0m\u001b[0;34m\u001b[0m\u001b[0m\n\u001b[0;32m--> 515\u001b[0;31m             \u001b[0;32mraise\u001b[0m \u001b[0mRuntimeError\u001b[0m\u001b[0;34m(\u001b[0m\u001b[0;34m'This event loop is already running'\u001b[0m\u001b[0;34m)\u001b[0m\u001b[0;34m\u001b[0m\u001b[0;34m\u001b[0m\u001b[0m\n\u001b[0m\u001b[1;32m    516\u001b[0m         \u001b[0;32mif\u001b[0m \u001b[0mevents\u001b[0m\u001b[0;34m.\u001b[0m\u001b[0m_get_running_loop\u001b[0m\u001b[0;34m(\u001b[0m\u001b[0;34m)\u001b[0m \u001b[0;32mis\u001b[0m \u001b[0;32mnot\u001b[0m \u001b[0;32mNone\u001b[0m\u001b[0;34m:\u001b[0m\u001b[0;34m\u001b[0m\u001b[0;34m\u001b[0m\u001b[0m\n\u001b[1;32m    517\u001b[0m             raise RuntimeError(\n",
      "\u001b[0;31mRuntimeError\u001b[0m: This event loop is already running"
     ]
    },
    {
     "name": "stderr",
     "output_type": "stream",
     "text": [
      "CRITICAL:root:twint.run:Twint:Feed:noDataExpecting value: line 1 column 1 (char 0)\n",
      "CRITICAL:root:twint.run:Twint:Feed:noDataExpecting value: line 1 column 1 (char 0)\n",
      "CRITICAL:root:twint.run:Twint:Feed:noDataExpecting value: line 1 column 1 (char 0)\n",
      "CRITICAL:root:twint.run:Twint:Feed:noDataExpecting value: line 1 column 1 (char 0)\n",
      "CRITICAL:root:twint.run:Twint:Feed:noDataExpecting value: line 1 column 1 (char 0)\n"
     ]
    },
    {
     "name": "stdout",
     "output_type": "stream",
     "text": [
      "ID 1110212766290378753 -||- Date 2019-03-25 -||- Time 09:12:04 -||- Tweet Senator Mitch McConnell is fighting to bring the Green New Deal up for a vote, but it's not because he's become an environmentalist overnight. #YEARSproject  https://www.facebook.com/SkepticalScience/posts/10156403629468335 … -||- Mentions  -||- Repliescount {replies_count} -||- Retweetscount {retweets_count} -||- Likescount {likes_count} -||- Hashtags #YEARSproject -||- Username skepticscience\n",
      "ID 1092105203137040385 -||- Date 2019-02-03 -||- Time 08:59:05 -||- Tweet \"I have never been an environmentalist. I don’t even think of myself as a nature person. I’ve lived my whole life in...  https://www.theguardian.com/environment/2019/feb/02/the-devastation-of-human-life-is-in-view-what-a-burning-world-tells-us-about-climate-change-global-warming … -||- Mentions  -||- Repliescount {replies_count} -||- Retweetscount {retweets_count} -||- Likescount {likes_count} -||- Hashtags  -||- Username skepticscience\n",
      "ID 991935404780785664 -||- Date 2018-05-03 -||- Time 00:00:04 -||- Tweet The phrase “Mormon environmentalist” is not one you hear every day, given that Mormons in the United States are often politically conservative. But Utah resident George...  https://religionnews.com/2018/04/30/mormon-environmentalist-conveys-ecological-message-through-fiction/ … -||- Mentions  -||- Repliescount {replies_count} -||- Retweetscount {retweets_count} -||- Likescount {likes_count} -||- Hashtags  -||- Username skepticscience\n",
      "ID 944387122563354625 -||- Date 2017-12-22 -||- Time 18:00:10 -||- Tweet Iceland's new prime minister is a feminist and environmentalist who is among the youngest leaders in the world....  https://fb.me/1u1EpRbX2  -||- Mentions  -||- Repliescount {replies_count} -||- Retweetscount {retweets_count} -||- Likescount {likes_count} -||- Hashtags  -||- Username skepticscience\n",
      "ID 900658957936668672 -||- Date 2017-08-24 -||- Time 03:00:03 -||- Tweet In an upcoming episode of ABC’s Catalyst, Australian environmentalist and global warming activist Tim Flannery...  http://fb.me/7JukWZNtU  -||- Mentions  -||- Repliescount {replies_count} -||- Retweetscount {retweets_count} -||- Likescount {likes_count} -||- Hashtags  -||- Username skepticscience\n",
      "ID 898393806659358720 -||- Date 2017-08-17 -||- Time 20:59:09 -||- Tweet Climate change is the biggest story on any editor’s newslist right now. Legendary environmentalist David Suzuki...  http://fb.me/5xkwI6cPo  -||- Mentions  -||- Repliescount {replies_count} -||- Retweetscount {retweets_count} -||- Likescount {likes_count} -||- Hashtags  -||- Username skepticscience\n",
      "ID 106601860076544000 -||- Date 2011-08-24 -||- Time 22:40:38 -||- Tweet @EileenOttawa thanx Eileen. Don't meet many fellow environmentalist XML geeks so good to hear from u :-) -||- Mentions EileenOttawa -||- Repliescount {replies_count} -||- Retweetscount {retweets_count} -||- Likescount {likes_count} -||- Hashtags  -||- Username skepticscience\n",
      "[+] Finished: Successfully collected 7 Tweets from @skepticscience.\n"
     ]
    }
   ],
   "source": [
    "for ix in range(23,len(SEARCH_TERMS)):\n",
    "    search_term = SEARCH_TERMS[ix]\n",
    "    print('Getting tweets with keyword: '+search_term)#search_term in SEARCH_TERMS:\n",
    "    c.Search = search_term\n",
    "    #c.Pandas = True\n",
    "    #c.Store_object = True\n",
    "    c.Output = '{}_search-term={}.csv'.format(c.Username,c.Search)\n",
    "    twint.run.Search(c)"
   ]
  },
  {
   "cell_type": "markdown",
   "metadata": {},
   "source": [
    "Organize scraped Tweets from all searchterms in df; remove duplicates."
   ]
  },
  {
   "cell_type": "code",
   "execution_count": 375,
   "metadata": {
    "scrolled": true
   },
   "outputs": [],
   "source": [
    "user_tweets = []\n",
    "for search_term in SEARCH_TERMS:\n",
    "    try:\n",
    "        tweets_per_search_term = pd.read_csv('{}_search-term={}.csv'.format(c.Username,search_term))\n",
    "        tweets_per_search_term['search_term'] = search_term\n",
    "        user_tweets.append(tweets_per_search_term)\n",
    "    except FileNotFoundError:\n",
    "        pass"
   ]
  },
  {
   "cell_type": "code",
   "execution_count": 376,
   "metadata": {
    "scrolled": true
   },
   "outputs": [
    {
     "data": {
      "text/plain": [
       "24"
      ]
     },
     "execution_count": 376,
     "metadata": {},
     "output_type": "execute_result"
    }
   ],
   "source": [
    "len(user_tweets) # each one is a df"
   ]
  },
  {
   "cell_type": "code",
   "execution_count": 377,
   "metadata": {
    "scrolled": true
   },
   "outputs": [
    {
     "data": {
      "text/html": [
       "<div>\n",
       "<style scoped>\n",
       "    .dataframe tbody tr th:only-of-type {\n",
       "        vertical-align: middle;\n",
       "    }\n",
       "\n",
       "    .dataframe tbody tr th {\n",
       "        vertical-align: top;\n",
       "    }\n",
       "\n",
       "    .dataframe thead th {\n",
       "        text-align: right;\n",
       "    }\n",
       "</style>\n",
       "<table border=\"1\" class=\"dataframe\">\n",
       "  <thead>\n",
       "    <tr style=\"text-align: right;\">\n",
       "      <th></th>\n",
       "      <th>id</th>\n",
       "      <th>date</th>\n",
       "      <th>time</th>\n",
       "      <th>tweet</th>\n",
       "      <th>mentions</th>\n",
       "      <th>replies_count</th>\n",
       "      <th>retweets_count</th>\n",
       "      <th>likes_count</th>\n",
       "      <th>hashtags</th>\n",
       "      <th>username</th>\n",
       "      <th>search_term</th>\n",
       "    </tr>\n",
       "  </thead>\n",
       "  <tbody>\n",
       "    <tr>\n",
       "      <td>0</td>\n",
       "      <td>1110212766290378753</td>\n",
       "      <td>2019-03-25</td>\n",
       "      <td>09:12:04</td>\n",
       "      <td>Senator Mitch McConnell is fighting to bring t...</td>\n",
       "      <td>[]</td>\n",
       "      <td>0</td>\n",
       "      <td>1</td>\n",
       "      <td>2</td>\n",
       "      <td>['#yearsproject']</td>\n",
       "      <td>skepticscience</td>\n",
       "      <td>environmentalist</td>\n",
       "    </tr>\n",
       "    <tr>\n",
       "      <td>1</td>\n",
       "      <td>1092105203137040385</td>\n",
       "      <td>2019-02-03</td>\n",
       "      <td>08:59:05</td>\n",
       "      <td>\"I have never been an environmentalist. I don’...</td>\n",
       "      <td>[]</td>\n",
       "      <td>3</td>\n",
       "      <td>9</td>\n",
       "      <td>9</td>\n",
       "      <td>[]</td>\n",
       "      <td>skepticscience</td>\n",
       "      <td>environmentalist</td>\n",
       "    </tr>\n",
       "    <tr>\n",
       "      <td>2</td>\n",
       "      <td>991935404780785664</td>\n",
       "      <td>2018-05-03</td>\n",
       "      <td>00:00:04</td>\n",
       "      <td>The phrase “Mormon environmentalist” is not on...</td>\n",
       "      <td>[]</td>\n",
       "      <td>0</td>\n",
       "      <td>1</td>\n",
       "      <td>1</td>\n",
       "      <td>[]</td>\n",
       "      <td>skepticscience</td>\n",
       "      <td>environmentalist</td>\n",
       "    </tr>\n",
       "    <tr>\n",
       "      <td>3</td>\n",
       "      <td>944387122563354625</td>\n",
       "      <td>2017-12-22</td>\n",
       "      <td>18:00:10</td>\n",
       "      <td>Iceland's new prime minister is a feminist and...</td>\n",
       "      <td>[]</td>\n",
       "      <td>1</td>\n",
       "      <td>24</td>\n",
       "      <td>47</td>\n",
       "      <td>[]</td>\n",
       "      <td>skepticscience</td>\n",
       "      <td>environmentalist</td>\n",
       "    </tr>\n",
       "    <tr>\n",
       "      <td>4</td>\n",
       "      <td>900658957936668672</td>\n",
       "      <td>2017-08-24</td>\n",
       "      <td>03:00:03</td>\n",
       "      <td>In an upcoming episode of ABC’s Catalyst, Aust...</td>\n",
       "      <td>[]</td>\n",
       "      <td>1</td>\n",
       "      <td>6</td>\n",
       "      <td>6</td>\n",
       "      <td>[]</td>\n",
       "      <td>skepticscience</td>\n",
       "      <td>environmentalist</td>\n",
       "    </tr>\n",
       "    <tr>\n",
       "      <td>5</td>\n",
       "      <td>898393806659358720</td>\n",
       "      <td>2017-08-17</td>\n",
       "      <td>20:59:09</td>\n",
       "      <td>Climate change is the biggest story on any edi...</td>\n",
       "      <td>[]</td>\n",
       "      <td>3</td>\n",
       "      <td>13</td>\n",
       "      <td>13</td>\n",
       "      <td>[]</td>\n",
       "      <td>skepticscience</td>\n",
       "      <td>environmentalist</td>\n",
       "    </tr>\n",
       "    <tr>\n",
       "      <td>6</td>\n",
       "      <td>106601860076544000</td>\n",
       "      <td>2011-08-24</td>\n",
       "      <td>22:40:38</td>\n",
       "      <td>@EileenOttawa thanx Eileen. Don't meet many fe...</td>\n",
       "      <td>['eileenottawa']</td>\n",
       "      <td>0</td>\n",
       "      <td>0</td>\n",
       "      <td>0</td>\n",
       "      <td>[]</td>\n",
       "      <td>skepticscience</td>\n",
       "      <td>environmentalist</td>\n",
       "    </tr>\n",
       "  </tbody>\n",
       "</table>\n",
       "</div>"
      ],
      "text/plain": [
       "                    id        date      time  \\\n",
       "0  1110212766290378753  2019-03-25  09:12:04   \n",
       "1  1092105203137040385  2019-02-03  08:59:05   \n",
       "2   991935404780785664  2018-05-03  00:00:04   \n",
       "3   944387122563354625  2017-12-22  18:00:10   \n",
       "4   900658957936668672  2017-08-24  03:00:03   \n",
       "5   898393806659358720  2017-08-17  20:59:09   \n",
       "6   106601860076544000  2011-08-24  22:40:38   \n",
       "\n",
       "                                               tweet          mentions  \\\n",
       "0  Senator Mitch McConnell is fighting to bring t...                []   \n",
       "1  \"I have never been an environmentalist. I don’...                []   \n",
       "2  The phrase “Mormon environmentalist” is not on...                []   \n",
       "3  Iceland's new prime minister is a feminist and...                []   \n",
       "4  In an upcoming episode of ABC’s Catalyst, Aust...                []   \n",
       "5  Climate change is the biggest story on any edi...                []   \n",
       "6  @EileenOttawa thanx Eileen. Don't meet many fe...  ['eileenottawa']   \n",
       "\n",
       "   replies_count  retweets_count  likes_count           hashtags  \\\n",
       "0              0               1            2  ['#yearsproject']   \n",
       "1              3               9            9                 []   \n",
       "2              0               1            1                 []   \n",
       "3              1              24           47                 []   \n",
       "4              1               6            6                 []   \n",
       "5              3              13           13                 []   \n",
       "6              0               0            0                 []   \n",
       "\n",
       "         username       search_term  \n",
       "0  skepticscience  environmentalist  \n",
       "1  skepticscience  environmentalist  \n",
       "2  skepticscience  environmentalist  \n",
       "3  skepticscience  environmentalist  \n",
       "4  skepticscience  environmentalist  \n",
       "5  skepticscience  environmentalist  \n",
       "6  skepticscience  environmentalist  "
      ]
     },
     "execution_count": 377,
     "metadata": {},
     "output_type": "execute_result"
    }
   ],
   "source": [
    "user_tweets[-1]"
   ]
  },
  {
   "cell_type": "code",
   "execution_count": 378,
   "metadata": {},
   "outputs": [
    {
     "data": {
      "text/plain": [
       "(6040, 11)"
      ]
     },
     "execution_count": 378,
     "metadata": {},
     "output_type": "execute_result"
    }
   ],
   "source": [
    "full_tweets = pd.concat(user_tweets)\n",
    "full_tweets.shape"
   ]
  },
  {
   "cell_type": "code",
   "execution_count": 379,
   "metadata": {
    "scrolled": true
   },
   "outputs": [
    {
     "name": "stdout",
     "output_type": "stream",
     "text": [
      "1395\n"
     ]
    }
   ],
   "source": [
    "from collections import Counter\n",
    "counted_ids = Counter(full_tweets['id'])\n",
    "print(len([(id_,counted_ids[id_]) for id_ in counted_ids if counted_ids[id_] > 1]))"
   ]
  },
  {
   "cell_type": "code",
   "execution_count": 380,
   "metadata": {
    "scrolled": true
   },
   "outputs": [
    {
     "data": {
      "text/plain": [
       "3202"
      ]
     },
     "execution_count": 380,
     "metadata": {},
     "output_type": "execute_result"
    }
   ],
   "source": [
    "np.sum([counted_ids[id_] for id_ in counted_ids if counted_ids[id_] > 1])"
   ]
  },
  {
   "cell_type": "code",
   "execution_count": 381,
   "metadata": {},
   "outputs": [],
   "source": [
    "full_tweets.drop_duplicates(subset =\"id\", keep = False, inplace = True)"
   ]
  },
  {
   "cell_type": "code",
   "execution_count": 382,
   "metadata": {},
   "outputs": [
    {
     "data": {
      "text/plain": [
       "(2838, 11)"
      ]
     },
     "execution_count": 382,
     "metadata": {},
     "output_type": "execute_result"
    }
   ],
   "source": [
    "full_tweets.shape"
   ]
  },
  {
   "cell_type": "code",
   "execution_count": 383,
   "metadata": {
    "scrolled": true
   },
   "outputs": [
    {
     "name": "stdout",
     "output_type": "stream",
     "text": [
      "skepticscience\n"
     ]
    }
   ],
   "source": [
    "print(c.Username)"
   ]
  },
  {
   "cell_type": "code",
   "execution_count": 384,
   "metadata": {},
   "outputs": [],
   "source": [
    "full_tweets.to_pickle('{}_unique_tweets.pkl'.format(c.Username))"
   ]
  },
  {
   "cell_type": "code",
   "execution_count": 385,
   "metadata": {},
   "outputs": [],
   "source": [
    "full_tweets = pd.read_pickle('{}_unique_tweets.pkl'.format(c.Username))"
   ]
  },
  {
   "cell_type": "code",
   "execution_count": 386,
   "metadata": {},
   "outputs": [
    {
     "data": {
      "text/html": [
       "<div>\n",
       "<style scoped>\n",
       "    .dataframe tbody tr th:only-of-type {\n",
       "        vertical-align: middle;\n",
       "    }\n",
       "\n",
       "    .dataframe tbody tr th {\n",
       "        vertical-align: top;\n",
       "    }\n",
       "\n",
       "    .dataframe thead th {\n",
       "        text-align: right;\n",
       "    }\n",
       "</style>\n",
       "<table border=\"1\" class=\"dataframe\">\n",
       "  <thead>\n",
       "    <tr style=\"text-align: right;\">\n",
       "      <th></th>\n",
       "      <th>id</th>\n",
       "      <th>date</th>\n",
       "      <th>time</th>\n",
       "      <th>tweet</th>\n",
       "      <th>mentions</th>\n",
       "      <th>replies_count</th>\n",
       "      <th>retweets_count</th>\n",
       "      <th>likes_count</th>\n",
       "      <th>hashtags</th>\n",
       "      <th>username</th>\n",
       "      <th>search_term</th>\n",
       "    </tr>\n",
       "  </thead>\n",
       "  <tbody>\n",
       "    <tr>\n",
       "      <td>219</td>\n",
       "      <td>1094823133977153536</td>\n",
       "      <td>2019-02-10</td>\n",
       "      <td>20:59:10</td>\n",
       "      <td>This week, House Democrats held two hearings o...</td>\n",
       "      <td>[]</td>\n",
       "      <td>0</td>\n",
       "      <td>3</td>\n",
       "      <td>14</td>\n",
       "      <td>[]</td>\n",
       "      <td>skepticscience</td>\n",
       "      <td>climate change</td>\n",
       "    </tr>\n",
       "    <tr>\n",
       "      <td>223</td>\n",
       "      <td>1094098330718793728</td>\n",
       "      <td>2019-02-08</td>\n",
       "      <td>20:59:04</td>\n",
       "      <td>Ever since the midterm elections, there’s been...</td>\n",
       "      <td>[]</td>\n",
       "      <td>2</td>\n",
       "      <td>5</td>\n",
       "      <td>21</td>\n",
       "      <td>[]</td>\n",
       "      <td>skepticscience</td>\n",
       "      <td>climate change</td>\n",
       "    </tr>\n",
       "    <tr>\n",
       "      <td>224</td>\n",
       "      <td>1093464425246482432</td>\n",
       "      <td>2019-02-07</td>\n",
       "      <td>03:00:09</td>\n",
       "      <td>In recent years Caribbean Community (CARICOM) ...</td>\n",
       "      <td>[]</td>\n",
       "      <td>0</td>\n",
       "      <td>2</td>\n",
       "      <td>3</td>\n",
       "      <td>[]</td>\n",
       "      <td>skepticscience</td>\n",
       "      <td>climate change</td>\n",
       "    </tr>\n",
       "    <tr>\n",
       "      <td>225</td>\n",
       "      <td>1092920830189858818</td>\n",
       "      <td>2019-02-05</td>\n",
       "      <td>15:00:06</td>\n",
       "      <td>Trump is expected to focus on five main issues...</td>\n",
       "      <td>[]</td>\n",
       "      <td>0</td>\n",
       "      <td>0</td>\n",
       "      <td>1</td>\n",
       "      <td>[]</td>\n",
       "      <td>skepticscience</td>\n",
       "      <td>climate change</td>\n",
       "    </tr>\n",
       "    <tr>\n",
       "      <td>226</td>\n",
       "      <td>1092875536119025664</td>\n",
       "      <td>2019-02-05</td>\n",
       "      <td>12:00:07</td>\n",
       "      <td>Since climate change was first introduced to U...</td>\n",
       "      <td>[]</td>\n",
       "      <td>0</td>\n",
       "      <td>0</td>\n",
       "      <td>3</td>\n",
       "      <td>[]</td>\n",
       "      <td>skepticscience</td>\n",
       "      <td>climate change</td>\n",
       "    </tr>\n",
       "    <tr>\n",
       "      <td>...</td>\n",
       "      <td>...</td>\n",
       "      <td>...</td>\n",
       "      <td>...</td>\n",
       "      <td>...</td>\n",
       "      <td>...</td>\n",
       "      <td>...</td>\n",
       "      <td>...</td>\n",
       "      <td>...</td>\n",
       "      <td>...</td>\n",
       "      <td>...</td>\n",
       "      <td>...</td>\n",
       "    </tr>\n",
       "    <tr>\n",
       "      <td>1</td>\n",
       "      <td>1092105203137040385</td>\n",
       "      <td>2019-02-03</td>\n",
       "      <td>08:59:05</td>\n",
       "      <td>\"I have never been an environmentalist. I don’...</td>\n",
       "      <td>[]</td>\n",
       "      <td>3</td>\n",
       "      <td>9</td>\n",
       "      <td>9</td>\n",
       "      <td>[]</td>\n",
       "      <td>skepticscience</td>\n",
       "      <td>environmentalist</td>\n",
       "    </tr>\n",
       "    <tr>\n",
       "      <td>2</td>\n",
       "      <td>991935404780785664</td>\n",
       "      <td>2018-05-03</td>\n",
       "      <td>00:00:04</td>\n",
       "      <td>The phrase “Mormon environmentalist” is not on...</td>\n",
       "      <td>[]</td>\n",
       "      <td>0</td>\n",
       "      <td>1</td>\n",
       "      <td>1</td>\n",
       "      <td>[]</td>\n",
       "      <td>skepticscience</td>\n",
       "      <td>environmentalist</td>\n",
       "    </tr>\n",
       "    <tr>\n",
       "      <td>3</td>\n",
       "      <td>944387122563354625</td>\n",
       "      <td>2017-12-22</td>\n",
       "      <td>18:00:10</td>\n",
       "      <td>Iceland's new prime minister is a feminist and...</td>\n",
       "      <td>[]</td>\n",
       "      <td>1</td>\n",
       "      <td>24</td>\n",
       "      <td>47</td>\n",
       "      <td>[]</td>\n",
       "      <td>skepticscience</td>\n",
       "      <td>environmentalist</td>\n",
       "    </tr>\n",
       "    <tr>\n",
       "      <td>5</td>\n",
       "      <td>898393806659358720</td>\n",
       "      <td>2017-08-17</td>\n",
       "      <td>20:59:09</td>\n",
       "      <td>Climate change is the biggest story on any edi...</td>\n",
       "      <td>[]</td>\n",
       "      <td>3</td>\n",
       "      <td>13</td>\n",
       "      <td>13</td>\n",
       "      <td>[]</td>\n",
       "      <td>skepticscience</td>\n",
       "      <td>environmentalist</td>\n",
       "    </tr>\n",
       "    <tr>\n",
       "      <td>6</td>\n",
       "      <td>106601860076544000</td>\n",
       "      <td>2011-08-24</td>\n",
       "      <td>22:40:38</td>\n",
       "      <td>@EileenOttawa thanx Eileen. Don't meet many fe...</td>\n",
       "      <td>['eileenottawa']</td>\n",
       "      <td>0</td>\n",
       "      <td>0</td>\n",
       "      <td>0</td>\n",
       "      <td>[]</td>\n",
       "      <td>skepticscience</td>\n",
       "      <td>environmentalist</td>\n",
       "    </tr>\n",
       "  </tbody>\n",
       "</table>\n",
       "<p>2838 rows × 11 columns</p>\n",
       "</div>"
      ],
      "text/plain": [
       "                      id        date      time  \\\n",
       "219  1094823133977153536  2019-02-10  20:59:10   \n",
       "223  1094098330718793728  2019-02-08  20:59:04   \n",
       "224  1093464425246482432  2019-02-07  03:00:09   \n",
       "225  1092920830189858818  2019-02-05  15:00:06   \n",
       "226  1092875536119025664  2019-02-05  12:00:07   \n",
       "..                   ...         ...       ...   \n",
       "1    1092105203137040385  2019-02-03  08:59:05   \n",
       "2     991935404780785664  2018-05-03  00:00:04   \n",
       "3     944387122563354625  2017-12-22  18:00:10   \n",
       "5     898393806659358720  2017-08-17  20:59:09   \n",
       "6     106601860076544000  2011-08-24  22:40:38   \n",
       "\n",
       "                                                 tweet          mentions  \\\n",
       "219  This week, House Democrats held two hearings o...                []   \n",
       "223  Ever since the midterm elections, there’s been...                []   \n",
       "224  In recent years Caribbean Community (CARICOM) ...                []   \n",
       "225  Trump is expected to focus on five main issues...                []   \n",
       "226  Since climate change was first introduced to U...                []   \n",
       "..                                                 ...               ...   \n",
       "1    \"I have never been an environmentalist. I don’...                []   \n",
       "2    The phrase “Mormon environmentalist” is not on...                []   \n",
       "3    Iceland's new prime minister is a feminist and...                []   \n",
       "5    Climate change is the biggest story on any edi...                []   \n",
       "6    @EileenOttawa thanx Eileen. Don't meet many fe...  ['eileenottawa']   \n",
       "\n",
       "     replies_count  retweets_count  likes_count hashtags        username  \\\n",
       "219              0               3           14       []  skepticscience   \n",
       "223              2               5           21       []  skepticscience   \n",
       "224              0               2            3       []  skepticscience   \n",
       "225              0               0            1       []  skepticscience   \n",
       "226              0               0            3       []  skepticscience   \n",
       "..             ...             ...          ...      ...             ...   \n",
       "1                3               9            9       []  skepticscience   \n",
       "2                0               1            1       []  skepticscience   \n",
       "3                1              24           47       []  skepticscience   \n",
       "5                3              13           13       []  skepticscience   \n",
       "6                0               0            0       []  skepticscience   \n",
       "\n",
       "          search_term  \n",
       "219    climate change  \n",
       "223    climate change  \n",
       "224    climate change  \n",
       "225    climate change  \n",
       "226    climate change  \n",
       "..                ...  \n",
       "1    environmentalist  \n",
       "2    environmentalist  \n",
       "3    environmentalist  \n",
       "5    environmentalist  \n",
       "6    environmentalist  \n",
       "\n",
       "[2838 rows x 11 columns]"
      ]
     },
     "execution_count": 386,
     "metadata": {},
     "output_type": "execute_result"
    }
   ],
   "source": [
    "full_tweets"
   ]
  },
  {
   "cell_type": "code",
   "execution_count": null,
   "metadata": {},
   "outputs": [],
   "source": []
  }
 ],
 "metadata": {
  "kernelspec": {
   "display_name": "Python 3",
   "language": "python",
   "name": "python3"
  },
  "language_info": {
   "codemirror_mode": {
    "name": "ipython",
    "version": 3
   },
   "file_extension": ".py",
   "mimetype": "text/x-python",
   "name": "python",
   "nbconvert_exporter": "python",
   "pygments_lexer": "ipython3",
   "version": "3.7.1"
  }
 },
 "nbformat": 4,
 "nbformat_minor": 2
}
